{
 "cells": [
  {
   "cell_type": "markdown",
   "id": "89e67e90-f3d6-4628-a049-6c6dbb36426c",
   "metadata": {},
   "source": [
    "# The Numpy Random Package\n",
    "\n",
    "This notebook will discuss and dempnstrate the Numpy Random package.  This is submission for the Programming for Data Analysis module in GMIT.  \n",
    "\n",
    "The Numpy documentation can be found [here](https://numpy.org/doc/stable/reference/random/index.html)\n"
   ]
  },
  {
   "cell_type": "code",
   "execution_count": 1,
   "id": "f3179ad5-781f-41b5-a92c-ed41552edafe",
   "metadata": {},
   "outputs": [],
   "source": [
    "import numpy as np\n",
    "import matplotlib.pyplot as plt"
   ]
  },
  {
   "cell_type": "markdown",
   "id": "d43fee1e-4bd3-4ccb-a25a-c3974d8d6c4e",
   "metadata": {},
   "source": [
    "## NumPy\n",
    "Numerical Python or \"Numpy\" is a package in Python that is used for data manipulation on numerical data. Numpy preforms fast operations on arrays. (MAYBE PUT SOME EXAMPLES IN HERE OF WHAT IT DOES EG SORTING). Numpy is much more effecient at preforming numerical data manipulation on its arrays than python is on lists. As Numpy is deisgned specifically for numerical data manipulation, it uses pre-compiled code rather than longer/ less efficient general phython code i.e. looping, indexing, etc..  (MAYBE DO A DEMO on efficiency?)\n",
    "\n",
    "## NumPy Random\n",
    "Numpy Random is a subpackage of numpy.  The main purpose of the random package is for creating simulation data that generated randomly depending on the function that is chosen.  3 categories of functions: simple random data, permutations, and distributions.  \n",
    "\n",
    "Discuss pseudorandom number generator (PRNG) - how random is random, not truely random. Seeds to be discussed later."
   ]
  },
  {
   "cell_type": "markdown",
   "id": "09bdafa1-6037-4d31-992e-ba5e0dfc251d",
   "metadata": {},
   "source": [
    "<br>\n",
    "\n",
    "# Simple Random Data\n",
    "## Random Integers\n",
    "The integers function provides a random number(s) between the parameters the user provides.  The parameters  include low, high (exclusive) and size of the sample of random numbers (optional but default size is 1).  First we'll generate one random number to simulate a dice roll."
   ]
  },
  {
   "cell_type": "code",
   "execution_count": 2,
   "id": "b776f453-62ed-4d32-8fa2-f2d7749425cb",
   "metadata": {},
   "outputs": [
    {
     "data": {
      "text/plain": [
       "6"
      ]
     },
     "execution_count": 2,
     "metadata": {},
     "output_type": "execute_result"
    }
   ],
   "source": [
    "rng = np.random.default_rng()\n",
    "rng.integers(1, 7)"
   ]
  },
  {
   "cell_type": "markdown",
   "id": "e72b778d-81d6-4048-b17b-88da55ce15c0",
   "metadata": {},
   "source": [
    "<br>\n",
    "\n",
    "### Array of Random Integers\n",
    "We can also generate an array of randoms. Below we will generate lotto quick pick numbers. "
   ]
  },
  {
   "cell_type": "code",
   "execution_count": 3,
   "id": "49da46dc-e026-4247-9af3-fd9a58441a8b",
   "metadata": {},
   "outputs": [
    {
     "data": {
      "text/plain": [
       "array([38, 34, 39, 26, 19, 35], dtype=int64)"
      ]
     },
     "execution_count": 3,
     "metadata": {},
     "output_type": "execute_result"
    }
   ],
   "source": [
    "rng = np.random.default_rng()\n",
    "rng.integers(1, 48, size= 6)  # high is exclusive so numbers are generated between 1 - 47. "
   ]
  },
  {
   "cell_type": "markdown",
   "id": "58d10c02-4528-4b2b-b236-019f6b5f26e6",
   "metadata": {},
   "source": [
    "<br>\n",
    "\n",
    "If we wish generate our quickpick numbers for lotto,  lotto plus 1 and lotto plus 2, we can create 3 arrays each containing 6 numbers. "
   ]
  },
  {
   "cell_type": "code",
   "execution_count": 4,
   "id": "2eef4895-9f9d-42bb-960b-d5e67275cbac",
   "metadata": {},
   "outputs": [
    {
     "data": {
      "text/plain": [
       "array([[18, 40, 39, 21,  9, 29],\n",
       "       [36, 11, 41, 40, 36,  8],\n",
       "       [11, 45, 16, 37, 16, 47]], dtype=int64)"
      ]
     },
     "execution_count": 4,
     "metadata": {},
     "output_type": "execute_result"
    }
   ],
   "source": [
    "rng.integers(1, 48, size= (3,6))"
   ]
  },
  {
   "cell_type": "markdown",
   "id": "20fed360-3815-41cc-a5bd-fa642e593e31",
   "metadata": {},
   "source": [
    "<br>\n",
    "\n",
    "### Progressive/ Regressive Random Arrays\n",
    "We can set lower or higher limits for numbers in the array as the random generation proceeds. As the range between the low and high narrows, we get a gradual increase or decrease in the frequency of the random number. To do so we set the lower or higher limit bounds by an array as the parameter.[2] \n",
    "\n",
    "Below is an example of setting the lower bounds for an array of 10,000 numbers. This is done by iterating through the size of the random array. The low parameter will increase slightly after each random number is generated, narrowing the random number choice available. This ultimately leads to the array being top heavy.  We can see this illustrated on the below histogram."
   ]
  },
  {
   "cell_type": "code",
   "execution_count": 5,
   "id": "21bc69cb-5bd1-45cf-8e6f-01c0d1742c2e",
   "metadata": {},
   "outputs": [],
   "source": [
    "low = []\n",
    "high = 10001 # High is exclusive for array and range. 10,000 is the true size. \n",
    "\n",
    "\n",
    "for i in range(1, high):\n",
    "    lower_limit = i * .99\n",
    "    low.append(lower_limit)\n",
    "\n",
    "progressive_10k = rng.integers([low], high, size=high-1) #size is high-1 because high is exclusive."
   ]
  },
  {
   "cell_type": "code",
   "execution_count": 6,
   "id": "903915a7-3f4e-4162-a412-2d7ebed46868",
   "metadata": {},
   "outputs": [
    {
     "data": {
      "text/plain": [
       "(array([  69.,  181.,  293.,  454.,  590.,  833., 1049., 1380., 1908.,\n",
       "        3243.]),\n",
       " array([   96. ,  1086.4,  2076.8,  3067.2,  4057.6,  5048. ,  6038.4,\n",
       "         7028.8,  8019.2,  9009.6, 10000. ]),\n",
       " <BarContainer object of 10 artists>)"
      ]
     },
     "execution_count": 6,
     "metadata": {},
     "output_type": "execute_result"
    },
    {
     "data": {
      "image/png": "[encoded data removed]",
      "text/plain": [
       "<Figure size 432x288 with 1 Axes>"
      ]
     },
     "metadata": {
      "needs_background": "light"
     },
     "output_type": "display_data"
    }
   ],
   "source": [
    "plt.hist(progressive_10k)"
   ]
  },
  {
   "cell_type": "markdown",
   "id": "ad35b5ac-fdf0-47b7-b033-98f58a900ffe",
   "metadata": {},
   "source": [
    "<br>\n",
    "\n",
    "## Random Floats"
   ]
  },
  {
   "cell_type": "code",
   "execution_count": 7,
   "id": "4ac5103c-96a8-44eb-bd4a-b4ae56aaa541",
   "metadata": {},
   "outputs": [],
   "source": [
    "rand_flt = rng.random(10000)"
   ]
  },
  {
   "cell_type": "code",
   "execution_count": 8,
   "id": "9b59423f-d5e1-4f6c-a83d-c79ef224ef66",
   "metadata": {},
   "outputs": [
    {
     "data": {
      "text/plain": [
       "(array([ 944., 1009., 1001.,  996., 1022.,  997., 1056.,  938.,  970.,\n",
       "        1067.]),\n",
       " array([2.96936726e-05, 1.00021207e-01, 2.00012721e-01, 3.00004235e-01,\n",
       "        3.99995749e-01, 4.99987263e-01, 5.99978776e-01, 6.99970290e-01,\n",
       "        7.99961804e-01, 8.99953318e-01, 9.99944831e-01]),\n",
       " <BarContainer object of 10 artists>)"
      ]
     },
     "execution_count": 8,
     "metadata": {},
     "output_type": "execute_result"
    },
    {
     "data": {
      "image/png": "[encoded data removed]",
      "text/plain": [
       "<Figure size 432x288 with 1 Axes>"
      ]
     },
     "metadata": {
      "needs_background": "light"
     },
     "output_type": "display_data"
    }
   ],
   "source": [
    "plt.hist(rand_flt)"
   ]
  },
  {
   "cell_type": "code",
   "execution_count": null,
   "id": "d06978c8-abc7-4ef7-95af-9a2d80e32a76",
   "metadata": {},
   "outputs": [],
   "source": []
  },
  {
   "cell_type": "code",
   "execution_count": null,
   "id": "6badfe1d-53be-49e6-98e0-a100e035e8ba",
   "metadata": {},
   "outputs": [],
   "source": []
  },
  {
   "cell_type": "markdown",
   "id": "f7ba7829-b1a5-4874-a5c7-eb3796d766e5",
   "metadata": {},
   "source": [
    "# References \n",
    "- https://numpy.org/doc/stable/user/whatisnumpy.html\n",
    "- [2] https://numpy.org/doc/stable/reference/random/generated/numpy.random.Generator.integers.html#numpy.random.Generator.integers"
   ]
  }
 ],
 "metadata": {
  "kernelspec": {
   "display_name": "Python 3",
   "language": "python",
   "name": "python3"
  },
  "language_info": {
   "codemirror_mode": {
    "name": "ipython",
    "version": 3
   },
   "file_extension": ".py",
   "mimetype": "text/x-python",
   "name": "python",
   "nbconvert_exporter": "python",
   "pygments_lexer": "ipython3",
   "version": "3.8.8"
  }
 },
 "nbformat": 4,
 "nbformat_minor": 5
}
