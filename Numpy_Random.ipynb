{
 "cells": [
  {
   "cell_type": "markdown",
   "id": "89e67e90-f3d6-4628-a049-6c6dbb36426c",
   "metadata": {},
   "source": [
    "# The Numpy Random Package\n",
    "\n",
    "This notebook will discuss and dempnstrate the Numpy Random package.  This is submission for the Programming for Data Analysis module in GMIT.  \n",
    "\n",
    "The Numpy documentation can be found [here](https://numpy.org/doc/stable/reference/random/index.html)\n"
   ]
  },
  {
   "cell_type": "code",
   "execution_count": 1,
   "id": "f3179ad5-781f-41b5-a92c-ed41552edafe",
   "metadata": {},
   "outputs": [],
   "source": [
    "import numpy as np\n",
    "import matplotlib.pyplot as plt\n",
    "import pandas as pd\n",
    "import matplotlib.ticker as mtick"
   ]
  },
  {
   "cell_type": "markdown",
   "id": "75599f94-1ee1-4eeb-8108-462e01f34bfc",
   "metadata": {},
   "source": [
    "<br>\n",
    "\n",
    "### Setting plot parameters"
   ]
  },
  {
   "cell_type": "code",
   "execution_count": 2,
   "id": "21a20d85-89a9-4693-929a-dcf231f7e6ec",
   "metadata": {},
   "outputs": [],
   "source": [
    "# See styles : https://matplotlib.org/stable/tutorials/introductory/customizing.html#composing-styles \n",
    "plt.rcParams['figure.figsize'] = [6, 6]"
   ]
  },
  {
   "cell_type": "markdown",
   "id": "d43fee1e-4bd3-4ccb-a25a-c3974d8d6c4e",
   "metadata": {},
   "source": [
    "## NumPy\n",
    "Numerical Python or \"Numpy\" is a package in Python that is used for data manipulation on numerical data. Numpy preforms fast operations on arrays. (MAYBE PUT SOME EXAMPLES IN HERE OF WHAT IT DOES EG SORTING). Numpy is much more effecient at preforming numerical data manipulation on its arrays than python is on lists. As Numpy is deisgned specifically for numerical data manipulation, it uses pre-compiled code rather than longer/ less efficient general phython code i.e. looping, indexing, etc..  (MAYBE DO A DEMO on efficiency?)  [1]\n",
    "\n",
    "## NumPy Random\n",
    "Numpy Random is a subpackage of numpy.  The main purpose of the random package is for creating simulation data that generated randomly depending on the function that is chosen.  3 categories of functions: simple random data, permutations, and distributions.  \n",
    "\n",
    "Discuss pseudorandom number generator (PRNG) - how random is random, not truely random. Seeds to be discussed later."
   ]
  },
  {
   "cell_type": "markdown",
   "id": "09bdafa1-6037-4d31-992e-ba5e0dfc251d",
   "metadata": {},
   "source": [
    "<br>\n",
    "\n",
    "# Simple Random Data\n",
    "## Random Integers\n",
    "The integers function provides a random number(s) between the parameters the user provides.  The parameters  include low, high (exclusive) and size of the sample of random numbers (optional but default size is 1).  First we'll generate one random number to simulate a dice roll."
   ]
  },
  {
   "cell_type": "code",
   "execution_count": 3,
   "id": "b776f453-62ed-4d32-8fa2-f2d7749425cb",
   "metadata": {},
   "outputs": [
    {
     "data": {
      "text/plain": [
       "1"
      ]
     },
     "execution_count": 3,
     "metadata": {},
     "output_type": "execute_result"
    }
   ],
   "source": [
    "rng = np.random.default_rng()\n",
    "rng.integers(1, 7)"
   ]
  },
  {
   "cell_type": "markdown",
   "id": "e72b778d-81d6-4048-b17b-88da55ce15c0",
   "metadata": {},
   "source": [
    "<br>\n",
    "\n",
    "### Array of Random Integers\n",
    "We can also generate an array of randoms. Below we will generate lotto quick pick numbers. "
   ]
  },
  {
   "cell_type": "code",
   "execution_count": 4,
   "id": "49da46dc-e026-4247-9af3-fd9a58441a8b",
   "metadata": {},
   "outputs": [
    {
     "data": {
      "text/plain": [
       "array([27,  9,  7, 28, 38, 13], dtype=int64)"
      ]
     },
     "execution_count": 4,
     "metadata": {},
     "output_type": "execute_result"
    }
   ],
   "source": [
    "rng = np.random.default_rng()\n",
    "rng.integers(1, 48, size= 6)  # high is exclusive so numbers are generated between 1 - 47. "
   ]
  },
  {
   "cell_type": "markdown",
   "id": "58d10c02-4528-4b2b-b236-019f6b5f26e6",
   "metadata": {},
   "source": [
    "<br>\n",
    "\n",
    "If we wish generate our quickpick numbers for lotto,  lotto plus 1 and lotto plus 2, we can create 3 arrays each containing 6 numbers. "
   ]
  },
  {
   "cell_type": "code",
   "execution_count": 5,
   "id": "2eef4895-9f9d-42bb-960b-d5e67275cbac",
   "metadata": {},
   "outputs": [
    {
     "data": {
      "text/plain": [
       "array([[ 1, 10, 36, 21, 12, 33],\n",
       "       [38, 33, 15, 25, 23, 15],\n",
       "       [ 5, 25, 38, 32, 30, 11]], dtype=int64)"
      ]
     },
     "execution_count": 5,
     "metadata": {},
     "output_type": "execute_result"
    }
   ],
   "source": [
    "rng.integers(1, 48, size= (3,6))"
   ]
  },
  {
   "cell_type": "markdown",
   "id": "20fed360-3815-41cc-a5bd-fa642e593e31",
   "metadata": {},
   "source": [
    "<br>\n",
    "\n",
    "### Progressive/ Regressive Random Arrays\n",
    "We can set lower or higher limits for numbers in the array as the random generation proceeds. As the range between the low and high narrows, we get a gradual increase or decrease in the frequency of the random number. To do so we set the lower or higher limit bounds by an array as the parameter.[2] \n",
    "\n",
    "Below is an example of setting the lower bounds for an array of 10,000 numbers. This is done by iterating through the size of the random array. The low parameter will increase slightly after each random number is generated, narrowing the random number choice available. This ultimately leads to the array being top heavy.  We can see this illustrated on the below histogram."
   ]
  },
  {
   "cell_type": "code",
   "execution_count": 6,
   "id": "21bc69cb-5bd1-45cf-8e6f-01c0d1742c2e",
   "metadata": {},
   "outputs": [],
   "source": [
    "low = []\n",
    "high = 10001 # High is exclusive for array and range. 10,000 is the true size. \n",
    "\n",
    "\n",
    "for i in range(1, high):\n",
    "    lower_limit = i * 0.99\n",
    "    low.append(lower_limit)\n",
    "\n",
    "progressive_10k = rng.integers([low], high, size=high-1) #size is high-1 because high is exclusive."
   ]
  },
  {
   "cell_type": "code",
   "execution_count": 7,
   "id": "903915a7-3f4e-4162-a412-2d7ebed46868",
   "metadata": {},
   "outputs": [
    {
     "data": {
      "text/plain": [
       "(array([  55.,  162.,  290.,  442.,  624.,  794., 1092., 1444., 1901.,\n",
       "        3196.]),\n",
       " array([   60.,  1054.,  2048.,  3042.,  4036.,  5030.,  6024.,  7018.,\n",
       "         8012.,  9006., 10000.]),\n",
       " <BarContainer object of 10 artists>)"
      ]
     },
     "execution_count": 7,
     "metadata": {},
     "output_type": "execute_result"
    },
    {
     "data": {
      "image/png": "[encoded data removed]",
      "text/plain": [
       "<Figure size 432x432 with 1 Axes>"
      ]
     },
     "metadata": {
      "needs_background": "light"
     },
     "output_type": "display_data"
    }
   ],
   "source": [
    "plt.hist(progressive_10k)"
   ]
  },
  {
   "cell_type": "markdown",
   "id": "ad35b5ac-fdf0-47b7-b033-98f58a900ffe",
   "metadata": {},
   "source": [
    "<br>\n",
    "\n",
    "## Random Floats"
   ]
  },
  {
   "cell_type": "markdown",
   "id": "230ad482-4bcd-4bb1-876c-7cddaa9f63fd",
   "metadata": {},
   "source": [
    "The Random function in Numpy will provide floating point random numbers between 0 and 1(exclusive). As with random integers, random numbers are generated with a uniform distribion across the range.  Although parameters within the random function are limited. "
   ]
  },
  {
   "cell_type": "code",
   "execution_count": 8,
   "id": "4ac5103c-96a8-44eb-bd4a-b4ae56aaa541",
   "metadata": {},
   "outputs": [],
   "source": [
    "rand_flt = rng.random(10000)"
   ]
  },
  {
   "cell_type": "code",
   "execution_count": 9,
   "id": "9b59423f-d5e1-4f6c-a83d-c79ef224ef66",
   "metadata": {},
   "outputs": [
    {
     "data": {
      "text/plain": [
       "(array([ 981.,  990.,  993., 1028., 1015., 1013.,  971., 1006., 1023.,\n",
       "         980.]),\n",
       " array([4.88296582e-05, 1.00039090e-01, 2.00029351e-01, 3.00019612e-01,\n",
       "        4.00009873e-01, 5.00000133e-01, 5.99990394e-01, 6.99980655e-01,\n",
       "        7.99970915e-01, 8.99961176e-01, 9.99951437e-01]),\n",
       " <BarContainer object of 10 artists>)"
      ]
     },
     "execution_count": 9,
     "metadata": {},
     "output_type": "execute_result"
    },
    {
     "data": {
      "image/png": "[encoded data removed]",
      "text/plain": [
       "<Figure size 432x432 with 1 Axes>"
      ]
     },
     "metadata": {
      "needs_background": "light"
     },
     "output_type": "display_data"
    }
   ],
   "source": [
    "plt.hist(rand_flt)"
   ]
  },
  {
   "cell_type": "markdown",
   "id": "d6482e7a-dc91-4d8c-96b0-f0b2c6108f5a",
   "metadata": {},
   "source": [
    "<br>\n",
    "\n",
    "## Choice"
   ]
  },
  {
   "cell_type": "markdown",
   "id": "acc3bc11-b5a8-4aeb-ae57-1b18bd086526",
   "metadata": {},
   "source": [
    "Random choice allows us to pick a random item(s) from an array or number(s) from a range.  We have the option to have that item returned to the pool to be potientally reselected for subsequent choices or not. Additionality we can set the probability of an item being selected. It's also worth noting that an array can contain a variety of data types, i.e ints, floats, strings, booleans, lists, etc.. [5][6]\n",
    "\n",
    "Below I will demostrate a raffle where one contestant wins.  Although lets say we favour 11 and 32 over each other contestant.  Lets set their probilitity of winning higher than the rest and run the raffle 100 times.  I will then plot the frequency of each winner. "
   ]
  },
  {
   "cell_type": "code",
   "execution_count": 10,
   "id": "6badfe1d-53be-49e6-98e0-a100e035e8ba",
   "metadata": {},
   "outputs": [],
   "source": [
    "player_profile = {} # [4] creating a dict to assign probabilities to specific contestants. \n",
    "players_no = []\n",
    "probability =np.array([]) #[7]\n",
    "winners = []\n",
    "count = 0\n",
    "\n",
    "while count < 100:  # running the function/ raffle 100 times. \n",
    "    for i in np.arange(100): # looping through players, setting probability.\n",
    "        if i == 11:\n",
    "            player_profile[i] = 0.25  # contestant 11 has 25% probability of being selected. \n",
    "\n",
    "        elif i == 32:\n",
    "            player_profile[i] = 0.25   # contestant 32 has 25% probability of being selected.\n",
    "\n",
    "        else: \n",
    "            player_profile[i] = 0.00757 # all other contestant each have 0.757% of being selected. \n",
    "\n",
    "\n",
    "    for keys in player_profile.keys(): # [8] iterating through the dict for players\n",
    "        players_no.append(keys)  # appending the players to an array to be added to choice function. \n",
    "\n",
    "\n",
    "    for values in player_profile.values():  # need to create a numpy array before appending \n",
    "        probability = np.append(probability, values)  # as we'll need to sum these below. \n",
    "\n",
    "\n",
    "    probability /= probability.sum() #[3] - Need to sum and divide by itself as probability would not add to 1. \n",
    "\n",
    "\n",
    "    winner = rng.choice(players_no, p = probability) # choice between players with probabilities set. \n",
    "    winners.append(winner)\n",
    "    count +=1\n"
   ]
  },
  {
   "cell_type": "code",
   "execution_count": 11,
   "id": "83b1da22-4a80-472a-8f75-716af403f03f",
   "metadata": {},
   "outputs": [
    {
     "data": {
      "text/plain": [
       "(array([ 1.,  1.,  0.,  0.,  0.,  0.,  1.,  1.,  4., 22.,  1.,  0.,  0.,\n",
       "         0.,  1.,  4.,  0.,  1.,  0.,  0.,  0.,  0.,  0.,  0.,  0.,  0.,\n",
       "         2.,  0.,  0.,  0., 20.,  0.,  0.,  0.,  1.,  1.,  0.,  0.,  1.,\n",
       "         1.,  0.,  0.,  1.,  1.,  1.,  0.,  0.,  1.,  0.,  0.,  2.,  0.,\n",
       "         1.,  0.,  1.,  0.,  0.,  2.,  1.,  0.,  2.,  0.,  0.,  0.,  2.,\n",
       "         2.,  0.,  0.,  0.,  0.,  0.,  0.,  2.,  2.,  0.,  1.,  0.,  1.,\n",
       "         1.,  1.,  1.,  1.,  0.,  1.,  1.,  0.,  0.,  0.,  1.,  0.,  0.,\n",
       "         1.,  0.,  0.,  1.,  1.,  0.,  1.,  2.,  1.]),\n",
       " array([ 2.  ,  2.97,  3.94,  4.91,  5.88,  6.85,  7.82,  8.79,  9.76,\n",
       "        10.73, 11.7 , 12.67, 13.64, 14.61, 15.58, 16.55, 17.52, 18.49,\n",
       "        19.46, 20.43, 21.4 , 22.37, 23.34, 24.31, 25.28, 26.25, 27.22,\n",
       "        28.19, 29.16, 30.13, 31.1 , 32.07, 33.04, 34.01, 34.98, 35.95,\n",
       "        36.92, 37.89, 38.86, 39.83, 40.8 , 41.77, 42.74, 43.71, 44.68,\n",
       "        45.65, 46.62, 47.59, 48.56, 49.53, 50.5 , 51.47, 52.44, 53.41,\n",
       "        54.38, 55.35, 56.32, 57.29, 58.26, 59.23, 60.2 , 61.17, 62.14,\n",
       "        63.11, 64.08, 65.05, 66.02, 66.99, 67.96, 68.93, 69.9 , 70.87,\n",
       "        71.84, 72.81, 73.78, 74.75, 75.72, 76.69, 77.66, 78.63, 79.6 ,\n",
       "        80.57, 81.54, 82.51, 83.48, 84.45, 85.42, 86.39, 87.36, 88.33,\n",
       "        89.3 , 90.27, 91.24, 92.21, 93.18, 94.15, 95.12, 96.09, 97.06,\n",
       "        98.03, 99.  ]),\n",
       " <BarContainer object of 100 artists>)"
      ]
     },
     "execution_count": 11,
     "metadata": {},
     "output_type": "execute_result"
    },
    {
     "data": {
      "image/png": "[encoded data removed]",
      "text/plain": [
       "<Figure size 432x432 with 1 Axes>"
      ]
     },
     "metadata": {
      "needs_background": "light"
     },
     "output_type": "display_data"
    }
   ],
   "source": [
    "plt.hist(winners, bins=100) # Plotting the results of the 100 raffles.  # Need to do a better plot. "
   ]
  },
  {
   "cell_type": "markdown",
   "id": "6d211ea8-036b-47ae-83ba-33526f987db0",
   "metadata": {},
   "source": [
    "<br>\n",
    "\n",
    "# Permutations\n",
    "## Shuffle & Permute"
   ]
  },
  {
   "cell_type": "markdown",
   "id": "2d9876bd-5c4e-4cbd-b3a2-515ea404a69b",
   "metadata": {},
   "source": [
    "Shuffling mixes the contents of a range, array or another mutable sequence.  We can shuffle a list and output the results in an array or in multi dimensional arrays.  This will shuffle the contents of the original data. \n",
    "\n",
    "Permute is similar however the original data is not suffled. Rather a copy of the original data is made which is shuffled. [9]\n",
    "\n",
    "Below we will create two 5-aside soccer teams.  Individuals are picked at random from a selection of 10 and placed into 2 seperate teams."
   ]
  },
  {
   "cell_type": "code",
   "execution_count": 12,
   "id": "e663e34e-74d7-47d4-90f9-06b69d530ac6",
   "metadata": {},
   "outputs": [
    {
     "name": "stdout",
     "output_type": "stream",
     "text": [
      "Team A contains players: [7 5 1 8 9]. You will kick off.\n",
      "Team B contains players: [0 2 3 6 4]\n"
     ]
    }
   ],
   "source": [
    "players = np.arange(10) # Creating a numpy array with numbers ranging from 0 to 9. \n",
    "rng.shuffle(players) # Shuffling the players up. \n",
    "\n",
    "teams = players.reshape((2, 5)) # Placing the random numbers into 2 arrays each containing 5 numbers.\n",
    "rng.shuffle(teams) # Shuffling the order of the arrays.  Team A will kick off.  \n",
    "\n",
    "Team_A = teams[0]\n",
    "Team_B = teams[1]\n",
    "\n",
    "print(\"Team A contains players: {}. You will kick off.\".format(Team_A))\n",
    "print(\"Team B contains players: {}\".format(Team_B))\n",
    "\n"
   ]
  },
  {
   "cell_type": "markdown",
   "id": "69c9b014-c3ed-4225-8e0f-5704d547ecc9",
   "metadata": {},
   "source": [
    "<br>\n",
    "\n",
    "# Distributions\n",
    "Need to introduce the purpose of use of distributions"
   ]
  },
  {
   "cell_type": "markdown",
   "id": "e167039e-113b-4ac1-a884-bb910e70488b",
   "metadata": {},
   "source": [
    "## Normal\n",
    "\n",
    "Need to describe the Normal function. [13]"
   ]
  },
  {
   "cell_type": "markdown",
   "id": "85e2c480-06bb-4a5b-a3d2-0282357406f0",
   "metadata": {},
   "source": [
    "I obtained a dataset of 252 males height that was originally published in a journal in 1985. \"Generalized Body Composition Prediction Equation for Men Using Simple Measurement Techniques\" by K. Penrose, A. Nelson, A.G. Fisher in Medicine and Science in Sports and Exercise 17(2) (1985) 189.   \n",
    "\n",
    "The dataset is available: http://www.statistics4u.com/fundstat_eng/data_bodyfat.html\n",
    "\n",
    "Below I intend to plot the height of each sample and compare this sample agaist a random sample of normally distributed numbers. Important to note that 1 outlier was removed from the dataset which was 29.50 inches.  The mean for the remaining 251 height measurements was 70.3 inches. \n",
    "\n",
    "The average adult male height in the USA is 69.1 inches.[11] This is used for the normal distribution model below.  \n",
    "\n",
    "The standard deviation for males height is about 2.2 inches. [10]"
   ]
  },
  {
   "cell_type": "code",
   "execution_count": 13,
   "id": "57988dea-ce09-49fd-bd00-37b41e41b8a5",
   "metadata": {},
   "outputs": [],
   "source": [
    "# Reading in the CSV file.\n",
    "height = pd.read_csv(r\"data\\252_male_height.csv\") # [12]"
   ]
  },
  {
   "cell_type": "code",
   "execution_count": 14,
   "id": "7134b22f-5c6e-4803-b47d-be46a98f8b37",
   "metadata": {},
   "outputs": [],
   "source": [
    "# Creating a numpy array of normally distributed data. \n",
    "# 69.1 as mean, 2.2 as standard deviation & Same sample size as realworld dataset. \n",
    "normal = rng.normal (69.1, 2.2, 251)"
   ]
  },
  {
   "cell_type": "code",
   "execution_count": 15,
   "id": "6c804b44-142f-4d44-8fa2-22b6465cfd4b",
   "metadata": {},
   "outputs": [
    {
     "data": {
      "text/plain": [
       "Text(0.5, 1.0, 'Normal Simulation')"
      ]
     },
     "execution_count": 15,
     "metadata": {},
     "output_type": "execute_result"
    },
    {
     "data": {
      "image/png": "[encoded data removed]",
      "text/plain": [
       "<Figure size 432x432 with 2 Axes>"
      ]
     },
     "metadata": {
      "needs_background": "light"
     },
     "output_type": "display_data"
    }
   ],
   "source": [
    "# Plotting both sets of data next to eachother as a histogram. \n",
    "fig, (ax1, ax2) = plt.subplots(1,2)\n",
    "\n",
    "ax1.hist(height, bins = 60)\n",
    "ax1.set_title(\"Data Set\")\n",
    "\n",
    "ax2.hist(normal, bins=60)\n",
    "ax2.set_title(\"Normal Simulation\",   fontsize=12)\n"
   ]
  },
  {
   "cell_type": "markdown",
   "id": "b060e719-b9b1-4571-9acd-4fb20f2a9b3b",
   "metadata": {},
   "source": [
    "#### Summary data"
   ]
  },
  {
   "cell_type": "code",
   "execution_count": 16,
   "id": "0768b3a0-cce5-4311-a154-688c101c5bdd",
   "metadata": {},
   "outputs": [],
   "source": [
    "# Running summary data for realworld dataset. \n",
    "height_sum = height.describe()"
   ]
  },
  {
   "cell_type": "code",
   "execution_count": 17,
   "id": "8d1302dc-8329-4e45-bd22-6e7be1a8117c",
   "metadata": {},
   "outputs": [],
   "source": [
    "# Storing the random stimulated data in a dataframe and labelling. \n",
    "normal_df = pd.DataFrame(normal)\n",
    "normal_df.columns =['Normal Dist - Simulation']"
   ]
  },
  {
   "cell_type": "code",
   "execution_count": 18,
   "id": "4362bdf3-b92b-4eee-a326-fe8795a699fb",
   "metadata": {},
   "outputs": [],
   "source": [
    "# Running summary data for the stimulated data. \n",
    "normal_sum= normal_df.describe()"
   ]
  },
  {
   "cell_type": "code",
   "execution_count": 19,
   "id": "3d73302a-564d-4d3c-9841-333dfe98fec3",
   "metadata": {},
   "outputs": [
    {
     "data": {
      "text/html": [
       "<div>\n",
       "<style scoped>\n",
       "    .dataframe tbody tr th:only-of-type {\n",
       "        vertical-align: middle;\n",
       "    }\n",
       "\n",
       "    .dataframe tbody tr th {\n",
       "        vertical-align: top;\n",
       "    }\n",
       "\n",
       "    .dataframe thead th {\n",
       "        text-align: right;\n",
       "    }\n",
       "</style>\n",
       "<table border=\"1\" class=\"dataframe\">\n",
       "  <thead>\n",
       "    <tr style=\"text-align: right;\">\n",
       "      <th></th>\n",
       "      <th>Height</th>\n",
       "      <th>Normal Dist - Simulation</th>\n",
       "    </tr>\n",
       "  </thead>\n",
       "  <tbody>\n",
       "    <tr>\n",
       "      <th>count</th>\n",
       "      <td>251.000000</td>\n",
       "      <td>251.000000</td>\n",
       "    </tr>\n",
       "    <tr>\n",
       "      <th>mean</th>\n",
       "      <td>70.310757</td>\n",
       "      <td>69.090219</td>\n",
       "    </tr>\n",
       "    <tr>\n",
       "      <th>std</th>\n",
       "      <td>2.614296</td>\n",
       "      <td>2.270977</td>\n",
       "    </tr>\n",
       "    <tr>\n",
       "      <th>min</th>\n",
       "      <td>64.000000</td>\n",
       "      <td>62.288331</td>\n",
       "    </tr>\n",
       "    <tr>\n",
       "      <th>25%</th>\n",
       "      <td>68.250000</td>\n",
       "      <td>67.773914</td>\n",
       "    </tr>\n",
       "    <tr>\n",
       "      <th>50%</th>\n",
       "      <td>70.000000</td>\n",
       "      <td>69.027249</td>\n",
       "    </tr>\n",
       "    <tr>\n",
       "      <th>75%</th>\n",
       "      <td>72.250000</td>\n",
       "      <td>70.575382</td>\n",
       "    </tr>\n",
       "    <tr>\n",
       "      <th>max</th>\n",
       "      <td>77.750000</td>\n",
       "      <td>74.852066</td>\n",
       "    </tr>\n",
       "  </tbody>\n",
       "</table>\n",
       "</div>"
      ],
      "text/plain": [
       "          Height   Normal Dist - Simulation\n",
       "count  251.000000                251.000000\n",
       "mean    70.310757                 69.090219\n",
       "std      2.614296                  2.270977\n",
       "min     64.000000                 62.288331\n",
       "25%     68.250000                 67.773914\n",
       "50%     70.000000                 69.027249\n",
       "75%     72.250000                 70.575382\n",
       "max     77.750000                 74.852066"
      ]
     },
     "execution_count": 19,
     "metadata": {},
     "output_type": "execute_result"
    }
   ],
   "source": [
    "height_sum.join(normal_sum)"
   ]
  },
  {
   "cell_type": "markdown",
   "id": "c0309435-67c2-41c2-a2f7-275d289ca455",
   "metadata": {},
   "source": [
    "We can see that the normal distribution simulation data provided by numpy random is very similar to the real world dataset published by K. Penrose, A. Nelson, A.G. Fisher. "
   ]
  },
  {
   "cell_type": "markdown",
   "id": "0c316a46-e68f-4e23-9222-f71f244d3e2b",
   "metadata": {},
   "source": [
    "## Poisson\n",
    "\n",
    "Event occuring in a period of time. Output will be a simulation of the number of events that will occur another time thereafter.  Size is optional, we may chose to run its any amount of times. [15][16]\n",
    "\n",
    "For instances, the event might be the number of car accidents a person is in during their lifetime.  We may run this for the population of a town. \n",
    "\n",
    "Average of 4 per person. Town population is 45,000"
   ]
  },
  {
   "cell_type": "code",
   "execution_count": 37,
   "id": "5e9af9ce-5b88-4d0e-b436-1cac09e59d56",
   "metadata": {},
   "outputs": [],
   "source": [
    "accident = rng.poisson(4,45000) "
   ]
  },
  {
   "cell_type": "code",
   "execution_count": 38,
   "id": "bdfcdeef-9055-439a-9baa-c00a0fdfe2c5",
   "metadata": {},
   "outputs": [
    {
     "data": {
      "image/png": "[encoded data removed]",
      "text/plain": [
       "<Figure size 432x432 with 1 Axes>"
      ]
     },
     "metadata": {
      "needs_background": "light"
     },
     "output_type": "display_data"
    }
   ],
   "source": [
    "fig, ax1 = plt.subplots()\n",
    "ax1.hist(accident, density = True)\n",
    "ax1.yaxis.set_major_formatter(mtick.PercentFormatter(1))"
   ]
  },
  {
   "cell_type": "markdown",
   "id": "f28ac74b-3261-40c3-8231-b7d1e1ae29d9",
   "metadata": {},
   "source": [
    "##### Percentage of accidents per person"
   ]
  },
  {
   "cell_type": "code",
   "execution_count": 40,
   "id": "7b10ef5c-52ae-4233-8ca9-3f451d7e9f85",
   "metadata": {},
   "outputs": [],
   "source": [
    "# Converting accidents array to dataframe\n",
    "df = pd.DataFrame(accident)\n",
    "df.columns = [\"data\"]"
   ]
  },
  {
   "cell_type": "code",
   "execution_count": 49,
   "id": "cea98e1c-39cb-4ee9-bc74-34cb29e7ce7b",
   "metadata": {},
   "outputs": [
    {
     "data": {
      "text/plain": [
       "4     19.6\n",
       "3     19.4\n",
       "5     15.7\n",
       "2     14.8\n",
       "6     10.4\n",
       "1      7.2\n",
       "7      5.9\n",
       "8      2.9\n",
       "0      1.9\n",
       "9      1.4\n",
       "10     0.5\n",
       "11     0.2\n",
       "12     0.1\n",
       "13     0.0\n",
       "14     0.0\n",
       "Name: data, dtype: float64"
      ]
     },
     "execution_count": 49,
     "metadata": {},
     "output_type": "execute_result"
    }
   ],
   "source": [
    "# Getting frequency of number of accidents per person in percentage. [14]\n",
    "per = (df['data'].value_counts()/df['data'].count())*100\n",
    "per.round(1)"
   ]
  },
  {
   "cell_type": "code",
   "execution_count": 63,
   "id": "4691d913-0044-4b8d-9665-622c52deea35",
   "metadata": {},
   "outputs": [],
   "source": [
    "a = rng.exponential(8,10000)"
   ]
  },
  {
   "cell_type": "code",
   "execution_count": 64,
   "id": "6dddbf17-43b3-4ded-9d50-e2c5afd2ffe6",
   "metadata": {},
   "outputs": [
    {
     "data": {
      "text/plain": [
       "(array([5.930e+03, 2.370e+03, 1.013e+03, 3.950e+02, 1.910e+02, 5.400e+01,\n",
       "        3.000e+01, 1.100e+01, 3.000e+00, 3.000e+00]),\n",
       " array([9.40187826e-04, 7.16335918e+00, 1.43257782e+01, 2.14881972e+01,\n",
       "        2.86506162e+01, 3.58130352e+01, 4.29754542e+01, 5.01378731e+01,\n",
       "        5.73002921e+01, 6.44627111e+01, 7.16251301e+01]),\n",
       " <BarContainer object of 10 artists>)"
      ]
     },
     "execution_count": 64,
     "metadata": {},
     "output_type": "execute_result"
    },
    {
     "data": {
      "image/png": "[encoded data removed]",
      "text/plain": [
       "<Figure size 432x432 with 1 Axes>"
      ]
     },
     "metadata": {
      "needs_background": "light"
     },
     "output_type": "display_data"
    }
   ],
   "source": [
    "plt.hist(a)"
   ]
  },
  {
   "cell_type": "markdown",
   "id": "460836dc-9c54-4716-a0c0-87b3aa59c38f",
   "metadata": {},
   "source": [
    "<br>\n",
    "\n",
    "## Uniform"
   ]
  },
  {
   "cell_type": "code",
   "execution_count": null,
   "id": "0aa940f0-6f41-47d9-a72a-75b81b610c9a",
   "metadata": {},
   "outputs": [],
   "source": []
  },
  {
   "cell_type": "code",
   "execution_count": null,
   "id": "0d676875-2729-4f28-9f50-117fefa72a69",
   "metadata": {},
   "outputs": [],
   "source": []
  },
  {
   "cell_type": "code",
   "execution_count": null,
   "id": "58de3861-bb90-4dbd-a61f-5f1821cbb76a",
   "metadata": {},
   "outputs": [],
   "source": []
  },
  {
   "cell_type": "code",
   "execution_count": null,
   "id": "66f90b31-fd6c-44fb-8dd2-76096c9fa64f",
   "metadata": {},
   "outputs": [],
   "source": []
  },
  {
   "cell_type": "code",
   "execution_count": null,
   "id": "ea8b7bfa-743f-4105-95ef-ee4d7938e9ec",
   "metadata": {},
   "outputs": [],
   "source": []
  },
  {
   "cell_type": "code",
   "execution_count": null,
   "id": "30ed457b-cc79-443f-9596-4a7af92f01c4",
   "metadata": {},
   "outputs": [],
   "source": []
  },
  {
   "cell_type": "code",
   "execution_count": null,
   "id": "02127a23-6813-47e6-9d32-647e02f30719",
   "metadata": {},
   "outputs": [],
   "source": []
  },
  {
   "cell_type": "code",
   "execution_count": null,
   "id": "4f40dfd9-0579-4d73-ac68-08bd3078bb58",
   "metadata": {},
   "outputs": [],
   "source": []
  },
  {
   "cell_type": "code",
   "execution_count": null,
   "id": "09d8e8e1-d850-4a1e-a8f1-bc0031a0f59b",
   "metadata": {},
   "outputs": [],
   "source": []
  },
  {
   "cell_type": "markdown",
   "id": "f7ba7829-b1a5-4874-a5c7-eb3796d766e5",
   "metadata": {},
   "source": [
    "# References \n",
    "- [1]  https://numpy.org/doc/stable/user/whatisnumpy.html\n",
    "- [2]  https://numpy.org/doc/stable/reference/random/generated/numpy.random.Generator.integers.html#numpy.random.Generator.integers\n",
    "- [3]  https://newbedev.com/np-random-choice-probabilities-do-not-sum-to-1\n",
    "- [4]  https://stackoverflow.com/questions/3679694/a-weighted-version-of-random-choice\n",
    "- [5]  https://numpy.org/doc/stable/reference/random/generated/numpy.random.Generator.choice.html#numpy.random.Generator.choice\n",
    "- [6]  https://www.sharpsightlabs.com/blog/numpy-random-choice/#numpy-random-choice-syntax\n",
    "- [7]  https://numpy.org/doc/stable/user/basics.creation.html\n",
    "- [8]  https://realpython.com/iterate-through-dictionary-python/#iterating-through-values\n",
    "- [9]  https://newbedev.com/shuffle-vs-permute-numpy\n",
    "- [10] https://www.nber.org/system/files/working_papers/h0108/h0108.pdf\n",
    "- [11] https://www.healthline.com/health/average-height-for-men#_noHeaderPrefixedContent\n",
    "- [12] https://pandas.pydata.org/docs/reference/api/pandas.read_csv.html\n",
    "- [13] https://numpy.org/doc/stable/reference/random/generated/numpy.random.Generator.normal.html#numpy.random.Generator.normal\n",
    "- [14] https://stackoverflow.com/questions/50558458/pandas-get-frequency-of-item-occurrences-in-a-column-as-percentage\n",
    "- [15] https://numpy.org/doc/stable/reference/random/generated/numpy.random.Generator.poisson.html#numpy.random.Generator.poisson\n",
    "- [16] https://www.investopedia.com/terms/p/poisson-distribution.asp"
   ]
  },
  {
   "cell_type": "code",
   "execution_count": null,
   "id": "c4b683a0-3ca4-4f4e-9292-c62cf81464b6",
   "metadata": {},
   "outputs": [],
   "source": []
  }
 ],
 "metadata": {
  "kernelspec": {
   "display_name": "Python 3",
   "language": "python",
   "name": "python3"
  },
  "language_info": {
   "codemirror_mode": {
    "name": "ipython",
    "version": 3
   },
   "file_extension": ".py",
   "mimetype": "text/x-python",
   "name": "python",
   "nbconvert_exporter": "python",
   "pygments_lexer": "ipython3",
   "version": "3.8.8"
  }
 },
 "nbformat": 4,
 "nbformat_minor": 5
}
