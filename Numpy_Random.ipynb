{
 "cells": [
  {
   "cell_type": "markdown",
   "id": "89e67e90-f3d6-4628-a049-6c6dbb36426c",
   "metadata": {},
   "source": [
    "# The Numpy Random Package\n",
    "\n",
    "This notebook will discuss and dempnstrate the Numpy Random package.  This is submission for the Programming for Data Analysis module in GMIT.  \n",
    "\n",
    "The Numpy documentation can be found [here](https://numpy.org/doc/stable/reference/random/index.html)\n",
    "\n",
    "\n",
    "***"
   ]
  },
  {
   "cell_type": "code",
   "execution_count": 1,
   "id": "f3179ad5-781f-41b5-a92c-ed41552edafe",
   "metadata": {},
   "outputs": [],
   "source": [
    "import numpy as np\n",
    "import matplotlib.pyplot as plt\n",
    "import pandas as pd\n",
    "import matplotlib.ticker as mtick\n",
    "from  numpy.random import Generator, PCG64, MT19937"
   ]
  },
  {
   "cell_type": "markdown",
   "id": "75599f94-1ee1-4eeb-8108-462e01f34bfc",
   "metadata": {},
   "source": [
    "***\n",
    "<br>\n",
    "\n",
    "### Setting plot parameters"
   ]
  },
  {
   "cell_type": "code",
   "execution_count": 2,
   "id": "21a20d85-89a9-4693-929a-dcf231f7e6ec",
   "metadata": {},
   "outputs": [],
   "source": [
    "# See styles : https://matplotlib.org/stable/tutorials/introductory/customizing.html#composing-styles \n",
    "plt.rcParams['figure.figsize'] = [6, 6]"
   ]
  },
  {
   "cell_type": "markdown",
   "id": "d43fee1e-4bd3-4ccb-a25a-c3974d8d6c4e",
   "metadata": {},
   "source": [
    "***\n",
    "<br>\n",
    "\n",
    "## NumPy\n",
    "Numerical Python or \"Numpy\" is a package in Python that is used for data manipulation on numerical data. Numpy preforms fast operations on arrays. Numpy is much more effecient at preforming numerical data manipulation on its arrays than python is on lists. As Numpy is deisgned specifically for numerical data manipulation, it uses pre-compiled code rather than longer/ less efficient general phython code i.e. looping, indexing, etc..[1]\n",
    "\n",
    "## NumPy Random\n",
    "Numpy Random is a subpackage of numpy.  The main purpose of the random package is for creating simulation data that generated randomly depending on the function that is chosen.  3 categories of functions: simple random data, permutations, and distributions.  "
   ]
  },
  {
   "cell_type": "markdown",
   "id": "09bdafa1-6037-4d31-992e-ba5e0dfc251d",
   "metadata": {},
   "source": [
    "***\n",
    "<br>\n",
    "\n",
    "# Simple Random Data\n",
    "## Random Integers\n",
    "The integers function provides a random number(s) between the parameters the user provides.  The parameters  include low, high (exclusive) and size of the sample of random numbers (optional but default size is 1).  First we'll generate one random number to simulate a dice roll."
   ]
  },
  {
   "cell_type": "code",
   "execution_count": 3,
   "id": "b776f453-62ed-4d32-8fa2-f2d7749425cb",
   "metadata": {},
   "outputs": [
    {
     "data": {
      "text/plain": [
       "1"
      ]
     },
     "execution_count": 3,
     "metadata": {},
     "output_type": "execute_result"
    }
   ],
   "source": [
    "rng = np.random.default_rng()\n",
    "rng.integers(1, 7)"
   ]
  },
  {
   "cell_type": "markdown",
   "id": "e72b778d-81d6-4048-b17b-88da55ce15c0",
   "metadata": {},
   "source": [
    "<br>\n",
    "\n",
    "### Array of Random Integers\n",
    "We can also generate an array of randoms. Below we will generate lotto quick pick numbers. "
   ]
  },
  {
   "cell_type": "code",
   "execution_count": 4,
   "id": "49da46dc-e026-4247-9af3-fd9a58441a8b",
   "metadata": {},
   "outputs": [
    {
     "data": {
      "text/plain": [
       "array([47, 13,  7, 24,  5, 14], dtype=int64)"
      ]
     },
     "execution_count": 4,
     "metadata": {},
     "output_type": "execute_result"
    }
   ],
   "source": [
    "rng = np.random.default_rng()\n",
    "rng.integers(1, 48, size= 6)  # high is exclusive so numbers are generated between 1 - 47. "
   ]
  },
  {
   "cell_type": "markdown",
   "id": "58d10c02-4528-4b2b-b236-019f6b5f26e6",
   "metadata": {},
   "source": [
    "<br>\n",
    "\n",
    "If we wish generate our quickpick numbers for lotto,  lotto plus 1 and lotto plus 2, we can create 3 arrays each containing 6 numbers. "
   ]
  },
  {
   "cell_type": "code",
   "execution_count": 5,
   "id": "2eef4895-9f9d-42bb-960b-d5e67275cbac",
   "metadata": {},
   "outputs": [
    {
     "data": {
      "text/plain": [
       "array([[13, 38, 32, 20, 41,  6],\n",
       "       [ 6, 32, 19, 40, 24, 17],\n",
       "       [23, 44, 32, 44, 39, 19]], dtype=int64)"
      ]
     },
     "execution_count": 5,
     "metadata": {},
     "output_type": "execute_result"
    }
   ],
   "source": [
    "rng.integers(1, 48, size= (3,6))"
   ]
  },
  {
   "cell_type": "markdown",
   "id": "20fed360-3815-41cc-a5bd-fa642e593e31",
   "metadata": {
    "tags": []
   },
   "source": [
    "<br>\n",
    "\n",
    "### Progressive/ Regressive Random Arrays\n",
    "We can set lower or higher limits for numbers in the array as the random generation proceeds. As the range between the low and high narrows, we get a gradual increase or decrease in the frequency of the random number. To do so we set the lower or higher limit bounds by an array as the parameter.[2] \n",
    "\n",
    "Below is an example of setting the lower bounds for an array of 10,000 numbers. This is done by iterating through the size of the random array. The low parameter will increase slightly after each random number is generated, narrowing the random number choice available. This ultimately leads to the array being top heavy.  We can see this illustrated on the below histogram."
   ]
  },
  {
   "cell_type": "code",
   "execution_count": 6,
   "id": "21bc69cb-5bd1-45cf-8e6f-01c0d1742c2e",
   "metadata": {},
   "outputs": [],
   "source": [
    "low = []\n",
    "high = 10001 # High is exclusive for array and range. 10,000 is the true size. \n",
    "\n",
    "\n",
    "for i in range(1, high):\n",
    "    lower_limit = i * 0.99\n",
    "    low.append(lower_limit)\n",
    "\n",
    "progressive_10k = rng.integers([low], high, size=high-1) #size is high-1 because high is exclusive."
   ]
  },
  {
   "cell_type": "code",
   "execution_count": 7,
   "id": "903915a7-3f4e-4162-a412-2d7ebed46868",
   "metadata": {},
   "outputs": [
    {
     "data": {
      "text/plain": [
       "(array([  67.,  174.,  310.,  434.,  580.,  790., 1109., 1391., 1884.,\n",
       "        3261.]),\n",
       " array([  132. ,  1118.8,  2105.6,  3092.4,  4079.2,  5066. ,  6052.8,\n",
       "         7039.6,  8026.4,  9013.2, 10000. ]),\n",
       " <BarContainer object of 10 artists>)"
      ]
     },
     "execution_count": 7,
     "metadata": {},
     "output_type": "execute_result"
    },
    {
     "data": {
      "image/png": "[encoded data removed]",
      "text/plain": [
       "<Figure size 432x432 with 1 Axes>"
      ]
     },
     "metadata": {
      "needs_background": "light"
     },
     "output_type": "display_data"
    }
   ],
   "source": [
    "plt.hist(progressive_10k)"
   ]
  },
  {
   "cell_type": "markdown",
   "id": "ad35b5ac-fdf0-47b7-b033-98f58a900ffe",
   "metadata": {},
   "source": [
    "***\n",
    "<br>\n",
    "\n",
    "## Random Floats"
   ]
  },
  {
   "cell_type": "markdown",
   "id": "230ad482-4bcd-4bb1-876c-7cddaa9f63fd",
   "metadata": {},
   "source": [
    "The Random function in Numpy will provide floating point random numbers between 0 and 1(exclusive). As with random integers, random numbers are generated with a uniform distribion across the range.  Although parameters within the random function are limited. "
   ]
  },
  {
   "cell_type": "code",
   "execution_count": 8,
   "id": "4ac5103c-96a8-44eb-bd4a-b4ae56aaa541",
   "metadata": {},
   "outputs": [],
   "source": [
    "rand_flt = rng.random(10000)"
   ]
  },
  {
   "cell_type": "code",
   "execution_count": 9,
   "id": "9b59423f-d5e1-4f6c-a83d-c79ef224ef66",
   "metadata": {},
   "outputs": [
    {
     "data": {
      "text/plain": [
       "(array([1040., 1029.,  979.,  974., 1003., 1014.,  961.,  977., 1029.,\n",
       "         994.]),\n",
       " array([3.07508151e-05, 1.00020822e-01, 2.00010893e-01, 3.00000964e-01,\n",
       "        3.99991036e-01, 4.99981107e-01, 5.99971178e-01, 6.99961249e-01,\n",
       "        7.99951320e-01, 8.99941392e-01, 9.99931463e-01]),\n",
       " <BarContainer object of 10 artists>)"
      ]
     },
     "execution_count": 9,
     "metadata": {},
     "output_type": "execute_result"
    },
    {
     "data": {
      "image/png": "[encoded data removed]",
      "text/plain": [
       "<Figure size 432x432 with 1 Axes>"
      ]
     },
     "metadata": {
      "needs_background": "light"
     },
     "output_type": "display_data"
    }
   ],
   "source": [
    "plt.hist(rand_flt)"
   ]
  },
  {
   "cell_type": "markdown",
   "id": "d6482e7a-dc91-4d8c-96b0-f0b2c6108f5a",
   "metadata": {},
   "source": [
    "***\n",
    "<br>\n",
    "\n",
    "## Choice"
   ]
  },
  {
   "cell_type": "markdown",
   "id": "acc3bc11-b5a8-4aeb-ae57-1b18bd086526",
   "metadata": {},
   "source": [
    "Random choice allows us to pick a random item(s) from an array or number(s) from a range.  We have the option to have that item returned to the pool to be potientally reselected for subsequent choices or not. Additionality we can set the probability of an item being selected. It's also worth noting that an array can contain a variety of data types, i.e ints, floats, strings, booleans, lists, etc.. [5][6]\n",
    "\n",
    "Below I will demostrate a raffle where one contestant wins.  Although lets say we favour 11 and 32 over each other contestant.  Lets set their probilitity of winning higher than the rest and run the raffle 100 times.  I will then plot the frequency of each winner. "
   ]
  },
  {
   "cell_type": "code",
   "execution_count": 10,
   "id": "6badfe1d-53be-49e6-98e0-a100e035e8ba",
   "metadata": {},
   "outputs": [],
   "source": [
    "player_profile = {} # [4] creating a dict to assign probabilities to specific contestants. \n",
    "players_no = []\n",
    "probability =np.array([]) #[7]\n",
    "winners = []\n",
    "count = 0\n",
    "\n",
    "while count < 100:  # running the function/ raffle 100 times. \n",
    "    for i in np.arange(100): # looping through players, setting probability.\n",
    "        if i == 11:\n",
    "            player_profile[i] = 0.25  # contestant 11 has 25% probability of being selected. \n",
    "\n",
    "        elif i == 32:\n",
    "            player_profile[i] = 0.25   # contestant 32 has 25% probability of being selected.\n",
    "\n",
    "        else: \n",
    "            player_profile[i] = 0.00757 # all other contestant each have 0.757% of being selected. \n",
    "\n",
    "\n",
    "    for keys in player_profile.keys(): # [8] iterating through the dict for players\n",
    "        players_no.append(keys)  # appending the players to an array to be added to choice function. \n",
    "\n",
    "\n",
    "    for values in player_profile.values():  # need to create a numpy array before appending \n",
    "        probability = np.append(probability, values)  # as we'll need to sum these below. \n",
    "\n",
    "\n",
    "    probability /= probability.sum() #[3] - Need to sum and divide by itself as probability would not add to 1. \n",
    "\n",
    "\n",
    "    winner = rng.choice(players_no, p = probability) # choice between players with probabilities set. \n",
    "    winners.append(winner)\n",
    "    count +=1\n"
   ]
  },
  {
   "cell_type": "code",
   "execution_count": 11,
   "id": "83b1da22-4a80-472a-8f75-716af403f03f",
   "metadata": {},
   "outputs": [
    {
     "data": {
      "text/plain": [
       "(array([ 1.,  0.,  1.,  1.,  1.,  0., 26.,  0.,  0.,  1.,  1.,  0.,  0.,\n",
       "         1.,  0.,  0.,  0.,  0.,  1.,  0.,  1.,  0.,  1.,  2.,  0.,  0.,\n",
       "         2.,  0., 18.,  1.,  3.,  2.,  0.,  0.,  0.,  0.,  1.,  0.,  3.,\n",
       "         0.,  0.,  1.,  0.,  1.,  0.,  0.,  2.,  2.,  0.,  0.,  1.,  0.,\n",
       "         2.,  0.,  0.,  1.,  0.,  2.,  0.,  0.,  0.,  0.,  1.,  0.,  0.,\n",
       "         0.,  0.,  0.,  0.,  1.,  1.,  1.,  0.,  1.,  0.,  0.,  1.,  0.,\n",
       "         2.,  0.,  0.,  0.,  1.,  0.,  0.,  1.,  1.,  0.,  2.,  0.,  1.,\n",
       "         0.,  1.,  0.,  0.,  0.,  2.,  0.,  2.,  1.]),\n",
       " array([ 5.  ,  5.94,  6.88,  7.82,  8.76,  9.7 , 10.64, 11.58, 12.52,\n",
       "        13.46, 14.4 , 15.34, 16.28, 17.22, 18.16, 19.1 , 20.04, 20.98,\n",
       "        21.92, 22.86, 23.8 , 24.74, 25.68, 26.62, 27.56, 28.5 , 29.44,\n",
       "        30.38, 31.32, 32.26, 33.2 , 34.14, 35.08, 36.02, 36.96, 37.9 ,\n",
       "        38.84, 39.78, 40.72, 41.66, 42.6 , 43.54, 44.48, 45.42, 46.36,\n",
       "        47.3 , 48.24, 49.18, 50.12, 51.06, 52.  , 52.94, 53.88, 54.82,\n",
       "        55.76, 56.7 , 57.64, 58.58, 59.52, 60.46, 61.4 , 62.34, 63.28,\n",
       "        64.22, 65.16, 66.1 , 67.04, 67.98, 68.92, 69.86, 70.8 , 71.74,\n",
       "        72.68, 73.62, 74.56, 75.5 , 76.44, 77.38, 78.32, 79.26, 80.2 ,\n",
       "        81.14, 82.08, 83.02, 83.96, 84.9 , 85.84, 86.78, 87.72, 88.66,\n",
       "        89.6 , 90.54, 91.48, 92.42, 93.36, 94.3 , 95.24, 96.18, 97.12,\n",
       "        98.06, 99.  ]),\n",
       " <BarContainer object of 100 artists>)"
      ]
     },
     "execution_count": 11,
     "metadata": {},
     "output_type": "execute_result"
    },
    {
     "data": {
      "image/png": "[encoded data removed]",
      "text/plain": [
       "<Figure size 432x432 with 1 Axes>"
      ]
     },
     "metadata": {
      "needs_background": "light"
     },
     "output_type": "display_data"
    }
   ],
   "source": [
    "plt.hist(winners, bins=100) # Plotting the results of the 100 raffles.  # Need to do a better plot. "
   ]
  },
  {
   "cell_type": "markdown",
   "id": "6d211ea8-036b-47ae-83ba-33526f987db0",
   "metadata": {},
   "source": [
    "***\n",
    "<br>\n",
    "\n",
    "# Permutations\n",
    "## Shuffle & Permute"
   ]
  },
  {
   "cell_type": "markdown",
   "id": "2d9876bd-5c4e-4cbd-b3a2-515ea404a69b",
   "metadata": {},
   "source": [
    "Shuffling mixes the contents of a range, array or another mutable sequence.  We can shuffle a list and output the results in an array or in multi dimensional arrays.  This will shuffle the contents of the original data. \n",
    "\n",
    "Permute is similar however the original data is not suffled. Rather a copy of the original data is made which is shuffled. [9]\n",
    "\n",
    "Below we will create two 5-aside soccer teams.  Individuals are picked at random from a selection of 10 and placed into 2 seperate teams."
   ]
  },
  {
   "cell_type": "code",
   "execution_count": 12,
   "id": "e663e34e-74d7-47d4-90f9-06b69d530ac6",
   "metadata": {},
   "outputs": [
    {
     "name": "stdout",
     "output_type": "stream",
     "text": [
      "Team A contains players: [5 0 9 2 7]. You will kick off.\n",
      "Team B contains players: [8 3 6 1 4]\n"
     ]
    }
   ],
   "source": [
    "players = np.arange(10) # Creating a numpy array with numbers ranging from 0 to 9. \n",
    "rng.shuffle(players) # Shuffling the players up. \n",
    "\n",
    "teams = players.reshape((2, 5)) # Placing the random numbers into 2 arrays each containing 5 numbers.\n",
    "rng.shuffle(teams) # Shuffling the order of the arrays.  Team A will kick off.  \n",
    "\n",
    "Team_A = teams[0]\n",
    "Team_B = teams[1]\n",
    "\n",
    "print(\"Team A contains players: {}. You will kick off.\".format(Team_A))\n",
    "print(\"Team B contains players: {}\".format(Team_B))\n",
    "\n"
   ]
  },
  {
   "cell_type": "markdown",
   "id": "69c9b014-c3ed-4225-8e0f-5704d547ecc9",
   "metadata": {},
   "source": [
    "***\n",
    "<br>\n",
    "\n",
    "# Distributions\n",
    "Need to introduce the purpose of use of distributions"
   ]
  },
  {
   "cell_type": "markdown",
   "id": "e167039e-113b-4ac1-a884-bb910e70488b",
   "metadata": {},
   "source": [
    "## Normal\n",
    "\n",
    "Need to describe the Normal function. [13]\n",
    "\n",
    "<br>\n"
   ]
  },
  {
   "cell_type": "markdown",
   "id": "85e2c480-06bb-4a5b-a3d2-0282357406f0",
   "metadata": {},
   "source": [
    "I obtained a dataset of 252 males height that was originally published in a journal in 1985. \"Generalized Body Composition Prediction Equation for Men Using Simple Measurement Techniques\" by K. Penrose, A. Nelson, A.G. Fisher in Medicine and Science in Sports and Exercise 17(2) (1985) 189.   \n",
    "\n",
    "<br>\n",
    "\n",
    "The dataset is available: http://www.statistics4u.com/fundstat_eng/data_bodyfat.html\n",
    "\n",
    "<br>\n",
    "\n",
    "Below I intend to plot the height of each sample and compare this sample agaist a random sample of normally distributed numbers. Important to note that 1 outlier was removed from the dataset which was 29.50 inches.  The mean for the remaining 251 height measurements was 70.3 inches. \n",
    "\n",
    "<br>\n",
    "\n",
    "The average adult male height in the USA is 69.1 inches.[11] This is used for the normal distribution model below.  \n",
    "\n",
    "<br>\n",
    "The standard deviation for males height is about 2.2 inches. [10]"
   ]
  },
  {
   "cell_type": "code",
   "execution_count": 47,
   "id": "57988dea-ce09-49fd-bd00-37b41e41b8a5",
   "metadata": {},
   "outputs": [],
   "source": [
    "# Reading in the CSV file.\n",
    "height = pd.read_csv(r\"data\\252_male_height.csv\") # [12]"
   ]
  },
  {
   "cell_type": "code",
   "execution_count": 14,
   "id": "7134b22f-5c6e-4803-b47d-be46a98f8b37",
   "metadata": {},
   "outputs": [],
   "source": [
    "# Creating a numpy array of normally distributed data. \n",
    "# 69.1 as mean, 2.2 as standard deviation & Same sample size as realworld dataset. \n",
    "normal = rng.normal (69.1, 2.2, 251)"
   ]
  },
  {
   "cell_type": "code",
   "execution_count": 15,
   "id": "6c804b44-142f-4d44-8fa2-22b6465cfd4b",
   "metadata": {},
   "outputs": [
    {
     "data": {
      "text/plain": [
       "Text(0.5, 1.0, 'Normal Simulation')"
      ]
     },
     "execution_count": 15,
     "metadata": {},
     "output_type": "execute_result"
    },
    {
     "data": {
      "image/png": "[encoded data removed]",
      "text/plain": [
       "<Figure size 432x432 with 2 Axes>"
      ]
     },
     "metadata": {
      "needs_background": "light"
     },
     "output_type": "display_data"
    }
   ],
   "source": [
    "# Plotting both sets of data next to eachother as a histogram. \n",
    "fig, (ax1, ax2) = plt.subplots(1,2)\n",
    "\n",
    "ax1.hist(height, bins = 60)\n",
    "ax1.set_title(\"Data Set\")\n",
    "\n",
    "ax2.hist(normal, bins=60)\n",
    "ax2.set_title(\"Normal Simulation\",   fontsize=12)\n"
   ]
  },
  {
   "cell_type": "markdown",
   "id": "b060e719-b9b1-4571-9acd-4fb20f2a9b3b",
   "metadata": {},
   "source": [
    "#### Summary data"
   ]
  },
  {
   "cell_type": "code",
   "execution_count": 16,
   "id": "0768b3a0-cce5-4311-a154-688c101c5bdd",
   "metadata": {},
   "outputs": [],
   "source": [
    "# Running summary data for realworld dataset. \n",
    "height_sum = height.describe()"
   ]
  },
  {
   "cell_type": "code",
   "execution_count": 44,
   "id": "8d1302dc-8329-4e45-bd22-6e7be1a8117c",
   "metadata": {},
   "outputs": [],
   "source": [
    "# Storing the random stimulated data in a dataframe and labelling. \n",
    "normal_df = pd.DataFrame(normal)\n",
    "normal_df.columns =['Simulation Data']"
   ]
  },
  {
   "cell_type": "code",
   "execution_count": 45,
   "id": "4362bdf3-b92b-4eee-a326-fe8795a699fb",
   "metadata": {},
   "outputs": [],
   "source": [
    "# Running summary data for the stimulated data. \n",
    "normal_sum= normal_df.describe()"
   ]
  },
  {
   "cell_type": "code",
   "execution_count": 46,
   "id": "3d73302a-564d-4d3c-9841-333dfe98fec3",
   "metadata": {},
   "outputs": [
    {
     "data": {
      "text/html": [
       "<div>\n",
       "<style scoped>\n",
       "    .dataframe tbody tr th:only-of-type {\n",
       "        vertical-align: middle;\n",
       "    }\n",
       "\n",
       "    .dataframe tbody tr th {\n",
       "        vertical-align: top;\n",
       "    }\n",
       "\n",
       "    .dataframe thead th {\n",
       "        text-align: right;\n",
       "    }\n",
       "</style>\n",
       "<table border=\"1\" class=\"dataframe\">\n",
       "  <thead>\n",
       "    <tr style=\"text-align: right;\">\n",
       "      <th></th>\n",
       "      <th>Height</th>\n",
       "      <th>Simulation Data</th>\n",
       "    </tr>\n",
       "  </thead>\n",
       "  <tbody>\n",
       "    <tr>\n",
       "      <th>count</th>\n",
       "      <td>251.000000</td>\n",
       "      <td>251.000000</td>\n",
       "    </tr>\n",
       "    <tr>\n",
       "      <th>mean</th>\n",
       "      <td>70.310757</td>\n",
       "      <td>68.871107</td>\n",
       "    </tr>\n",
       "    <tr>\n",
       "      <th>std</th>\n",
       "      <td>2.614296</td>\n",
       "      <td>2.177367</td>\n",
       "    </tr>\n",
       "    <tr>\n",
       "      <th>min</th>\n",
       "      <td>64.000000</td>\n",
       "      <td>62.871110</td>\n",
       "    </tr>\n",
       "    <tr>\n",
       "      <th>25%</th>\n",
       "      <td>68.250000</td>\n",
       "      <td>67.567179</td>\n",
       "    </tr>\n",
       "    <tr>\n",
       "      <th>50%</th>\n",
       "      <td>70.000000</td>\n",
       "      <td>68.790164</td>\n",
       "    </tr>\n",
       "    <tr>\n",
       "      <th>75%</th>\n",
       "      <td>72.250000</td>\n",
       "      <td>70.318053</td>\n",
       "    </tr>\n",
       "    <tr>\n",
       "      <th>max</th>\n",
       "      <td>77.750000</td>\n",
       "      <td>75.133606</td>\n",
       "    </tr>\n",
       "  </tbody>\n",
       "</table>\n",
       "</div>"
      ],
      "text/plain": [
       "          Height   Simulation Data\n",
       "count  251.000000       251.000000\n",
       "mean    70.310757        68.871107\n",
       "std      2.614296         2.177367\n",
       "min     64.000000        62.871110\n",
       "25%     68.250000        67.567179\n",
       "50%     70.000000        68.790164\n",
       "75%     72.250000        70.318053\n",
       "max     77.750000        75.133606"
      ]
     },
     "execution_count": 46,
     "metadata": {},
     "output_type": "execute_result"
    }
   ],
   "source": [
    "height_sum.join(normal_sum)"
   ]
  },
  {
   "cell_type": "markdown",
   "id": "c0309435-67c2-41c2-a2f7-275d289ca455",
   "metadata": {},
   "source": [
    "We can see that the normal distribution simulation data provided by numpy random is very similar to the real world dataset published by K. Penrose, A. Nelson, A.G. Fisher. "
   ]
  },
  {
   "cell_type": "markdown",
   "id": "0c316a46-e68f-4e23-9222-f71f244d3e2b",
   "metadata": {},
   "source": [
    "***\n",
    "<br>\n",
    "\n",
    "## Poisson\n",
    "\n",
    "Event occuring in a period of time. Output will be a simulation of the number of events that will occur another time thereafter.  Size is optional, we may chose to run its any amount of times. [15][16]\n",
    "\n",
    "For instances, the event might be the number of car accidents a person is in during their lifetime.  We may run this for the population of a town. \n",
    "\n",
    "Average of 4 per person. Town population is 45,000"
   ]
  },
  {
   "cell_type": "code",
   "execution_count": 20,
   "id": "5e9af9ce-5b88-4d0e-b436-1cac09e59d56",
   "metadata": {},
   "outputs": [],
   "source": [
    "accident = rng.poisson(4,45000) "
   ]
  },
  {
   "cell_type": "code",
   "execution_count": 21,
   "id": "bdfcdeef-9055-439a-9baa-c00a0fdfe2c5",
   "metadata": {},
   "outputs": [
    {
     "data": {
      "image/png": "[encoded data removed]",
      "text/plain": [
       "<Figure size 432x432 with 1 Axes>"
      ]
     },
     "metadata": {
      "needs_background": "light"
     },
     "output_type": "display_data"
    }
   ],
   "source": [
    "fig, ax1 = plt.subplots()\n",
    "ax1.hist(accident, density = True, bins = 13)\n",
    "ax1.yaxis.set_major_formatter(mtick.PercentFormatter(1))"
   ]
  },
  {
   "cell_type": "markdown",
   "id": "f28ac74b-3261-40c3-8231-b7d1e1ae29d9",
   "metadata": {},
   "source": [
    "##### Percentage of accidents per person"
   ]
  },
  {
   "cell_type": "code",
   "execution_count": 22,
   "id": "7b10ef5c-52ae-4233-8ca9-3f451d7e9f85",
   "metadata": {},
   "outputs": [],
   "source": [
    "# Converting accidents array to dataframe\n",
    "df = pd.DataFrame(accident)\n",
    "df.columns = [\"data\"]"
   ]
  },
  {
   "cell_type": "code",
   "execution_count": 23,
   "id": "cea98e1c-39cb-4ee9-bc74-34cb29e7ce7b",
   "metadata": {},
   "outputs": [
    {
     "data": {
      "text/plain": [
       "4     19.5\n",
       "3     19.3\n",
       "5     15.8\n",
       "2     14.6\n",
       "6     10.4\n",
       "1      7.4\n",
       "7      6.0\n",
       "8      3.0\n",
       "0      1.8\n",
       "9      1.3\n",
       "10     0.5\n",
       "11     0.2\n",
       "12     0.0\n",
       "13     0.0\n",
       "14     0.0\n",
       "Name: data, dtype: float64"
      ]
     },
     "execution_count": 23,
     "metadata": {},
     "output_type": "execute_result"
    }
   ],
   "source": [
    "# Getting frequency of number of accidents per person in percentage. [14]\n",
    "per = (df['data'].value_counts()/df['data'].count())*100\n",
    "per.round(1)"
   ]
  },
  {
   "cell_type": "code",
   "execution_count": 24,
   "id": "fe7beece-941c-4d6d-b42f-1d213bcabdda",
   "metadata": {},
   "outputs": [],
   "source": [
    "accidents_10 = (per.loc[10]/100*45000).round(1)"
   ]
  },
  {
   "cell_type": "code",
   "execution_count": 25,
   "id": "0b76c570-f578-49f1-896c-54546d1e84ef",
   "metadata": {},
   "outputs": [
    {
     "name": "stdout",
     "output_type": "stream",
     "text": [
      "239.0 people in the town will be in 10 car accidents over their lifetime\n"
     ]
    }
   ],
   "source": [
    "print(\"{} people in the town will be in 10 car accidents over their lifetime\".format(accidents_10))"
   ]
  },
  {
   "cell_type": "markdown",
   "id": "460836dc-9c54-4716-a0c0-87b3aa59c38f",
   "metadata": {},
   "source": [
    "***\n",
    "<br>\n",
    "\n",
    "## Uniform"
   ]
  },
  {
   "cell_type": "markdown",
   "id": "fa481476-d10a-423a-8051-3a7dc066b1a1",
   "metadata": {},
   "source": [
    "Uniform distribution will generate random float numbers between the range the user provides.  Numbers are evenly spread across the sample range.  When the size of the sample is large enough, we can see an even distribution of numbers on a plot. [17]\n",
    "\n",
    "Below I will generate a 10000 float sample between the range of 0 and 100 before plotting the random uniform data."
   ]
  },
  {
   "cell_type": "code",
   "execution_count": 26,
   "id": "0d676875-2729-4f28-9f50-117fefa72a69",
   "metadata": {},
   "outputs": [],
   "source": [
    "# Parameters are low, high (exclusive), and size of the sample.  I have rounded the numbers to 3 decimal places.\n",
    "uniform = (rng.uniform(0,100,1000)).round(3)"
   ]
  },
  {
   "cell_type": "markdown",
   "id": "6e7bf284-8c0f-4b0c-bb96-35222255fdb1",
   "metadata": {},
   "source": [
    "<br>\n",
    "\n",
    "### Uniform Plot\n",
    "\n",
    "When we plot the same data, we can see an even spread of numbers between 0 and 100. "
   ]
  },
  {
   "cell_type": "code",
   "execution_count": 27,
   "id": "9c81c1a9-29ba-4421-9d4b-4517cb700129",
   "metadata": {},
   "outputs": [
    {
     "data": {
      "text/plain": [
       "(array([106., 103., 108., 100.,  86.,  73., 113., 117.,  91., 103.]),\n",
       " array([1.40000e-02, 9.98920e+00, 1.99644e+01, 2.99396e+01, 3.99148e+01,\n",
       "        4.98900e+01, 5.98652e+01, 6.98404e+01, 7.98156e+01, 8.97908e+01,\n",
       "        9.97660e+01]),\n",
       " <BarContainer object of 10 artists>)"
      ]
     },
     "execution_count": 27,
     "metadata": {},
     "output_type": "execute_result"
    },
    {
     "data": {
      "image/png": "[encoded data removed]",
      "text/plain": [
       "<Figure size 432x432 with 1 Axes>"
      ]
     },
     "metadata": {
      "needs_background": "light"
     },
     "output_type": "display_data"
    }
   ],
   "source": [
    "fig, ax1 = plt.subplots()\n",
    "ax1.hist(uniform, bins = 10)"
   ]
  },
  {
   "cell_type": "markdown",
   "id": "298956b8-9a6d-4bc5-ad59-9a6a5da037c3",
   "metadata": {},
   "source": [
    "<br>\n",
    "\n",
    "### Generating summary data for the uniform sample. \n",
    "\n",
    "The average of the sample should be the mid-point of the range, i.e. low + high / 2.  \n",
    "\n",
    "I anticipate that the mean will be circa 50.00"
   ]
  },
  {
   "cell_type": "code",
   "execution_count": 28,
   "id": "0d2e1bdf-1e76-4733-ae47-04bfc394df93",
   "metadata": {},
   "outputs": [],
   "source": [
    "# Concerting the Numpy array to dataframe and naming the column.\n",
    "uni_df = pd.DataFrame(uniform)\n",
    "uni_df.columns = [\"Uniform Data\"]"
   ]
  },
  {
   "cell_type": "code",
   "execution_count": 29,
   "id": "025ddb8c-d76d-41ed-b26f-f2aaaf58f084",
   "metadata": {},
   "outputs": [],
   "source": [
    "summary = uni_df.describe().round(3)"
   ]
  },
  {
   "cell_type": "code",
   "execution_count": 30,
   "id": "288ecc0a-b51c-4689-9fed-2e8d81325561",
   "metadata": {},
   "outputs": [],
   "source": [
    "# Indexing the summary data to get the mean as the variable \"mean\".\n",
    "mean = summary[\"Uniform Data\"].loc[\"mean\"]"
   ]
  },
  {
   "cell_type": "code",
   "execution_count": 31,
   "id": "ce5b3520-9951-405c-ad59-5082f18f94d7",
   "metadata": {},
   "outputs": [
    {
     "name": "stdout",
     "output_type": "stream",
     "text": [
      "\n",
      "The mean of the uniform sample is 49.832, we anticipated 50. \n",
      "\n",
      "See the full summary below\n",
      "\n"
     ]
    },
    {
     "data": {
      "text/html": [
       "<div>\n",
       "<style scoped>\n",
       "    .dataframe tbody tr th:only-of-type {\n",
       "        vertical-align: middle;\n",
       "    }\n",
       "\n",
       "    .dataframe tbody tr th {\n",
       "        vertical-align: top;\n",
       "    }\n",
       "\n",
       "    .dataframe thead th {\n",
       "        text-align: right;\n",
       "    }\n",
       "</style>\n",
       "<table border=\"1\" class=\"dataframe\">\n",
       "  <thead>\n",
       "    <tr style=\"text-align: right;\">\n",
       "      <th></th>\n",
       "      <th>Uniform Data</th>\n",
       "    </tr>\n",
       "  </thead>\n",
       "  <tbody>\n",
       "    <tr>\n",
       "      <th>count</th>\n",
       "      <td>1000.000</td>\n",
       "    </tr>\n",
       "    <tr>\n",
       "      <th>mean</th>\n",
       "      <td>49.832</td>\n",
       "    </tr>\n",
       "    <tr>\n",
       "      <th>std</th>\n",
       "      <td>29.330</td>\n",
       "    </tr>\n",
       "    <tr>\n",
       "      <th>min</th>\n",
       "      <td>0.014</td>\n",
       "    </tr>\n",
       "    <tr>\n",
       "      <th>25%</th>\n",
       "      <td>23.808</td>\n",
       "    </tr>\n",
       "    <tr>\n",
       "      <th>50%</th>\n",
       "      <td>49.478</td>\n",
       "    </tr>\n",
       "    <tr>\n",
       "      <th>75%</th>\n",
       "      <td>75.899</td>\n",
       "    </tr>\n",
       "    <tr>\n",
       "      <th>max</th>\n",
       "      <td>99.766</td>\n",
       "    </tr>\n",
       "  </tbody>\n",
       "</table>\n",
       "</div>"
      ],
      "text/plain": [
       "       Uniform Data\n",
       "count      1000.000\n",
       "mean         49.832\n",
       "std          29.330\n",
       "min           0.014\n",
       "25%          23.808\n",
       "50%          49.478\n",
       "75%          75.899\n",
       "max          99.766"
      ]
     },
     "execution_count": 31,
     "metadata": {},
     "output_type": "execute_result"
    }
   ],
   "source": [
    "print(\"\\nThe mean of the uniform sample is {}, we anticipated 50. \\n\\nSee the full summary below\\n\".format(mean))\n",
    "summary"
   ]
  },
  {
   "cell_type": "markdown",
   "id": "dc1b87bf-597b-49f6-8666-9dbf0b9b42ee",
   "metadata": {},
   "source": [
    "This even distribution of numbers is also seen with large samples in the random integers function. However, as integers have no decimal place there is gaps between numbers and therefore some might argue that its not uniformly distributed. \n",
    "\n",
    "The uniform distribution returns floating point numbers, thus the random sample can return numbers such as 1.99, 2.01, 2.05, etc.. \n",
    "These are truly evenly distributed numbers.  This function is excellent for creating noise in our data sets and plots. "
   ]
  },
  {
   "cell_type": "markdown",
   "id": "c4d1fd93-7c64-4a86-b22d-c97645104a71",
   "metadata": {},
   "source": [
    "***\n",
    "<br>\n",
    "\n",
    "## Dis"
   ]
  },
  {
   "cell_type": "code",
   "execution_count": null,
   "id": "dc2bff5f-f36b-41f9-b9cc-2d1bbc51c342",
   "metadata": {},
   "outputs": [],
   "source": []
  },
  {
   "cell_type": "markdown",
   "id": "1c1bf878-6552-4669-bdef-f1246fab0c2d",
   "metadata": {},
   "source": [
    "***\n",
    "<br>\n",
    "\n",
    "## Pseudorandom Number Generators & Seeds"
   ]
  },
  {
   "cell_type": "markdown",
   "id": "dd898db0-20b2-47f4-bb6f-bc83e742feff",
   "metadata": {},
   "source": [
    "Random numbers generated on Numpy seem to be random however they are not truly random. Random numbers in Numpy are generated with a pseudorandom number generator (PRNG). A PRNG is a deterministic algorithm, i.e. an input is processed through an algorithm to form an output. The random number(s) are reproducable if we know PRNG and the seed.[18]  \n",
    "\n",
    "<br>\n",
    "\n",
    "The seed is the initial number fed into the PRNG. By default the seed will be generated from the current time in the computer when the code is ran [20]. The subsequent seed for the next random sample depends on the PRNG used.  A sequence of random numbers may therefore repeat itself when the a same input is fed back into the algorithm.  The sequence before this repetition is called the period. \n",
    "\n",
    "<br>\n",
    "\n",
    "The default PRNG used in Numpy is now PCG64, recently changed from Mersenne Twister.  PCG64 is said to be superior in many ways.  Mersenne Twister is slower than PCG64 as code is much longer. PCG64 is said to be twice as fast [24].  Further, the memory it uses is much larger than PCG64.  Mersenne Twister is also said to have failed statistical quality tests [21].  PCG64 is said to have greater statistical reliability [22]. Its claimed that Mersenne Twister does not handle zeros well [21][23]\n",
    "\n",
    "\n",
    "<br>"
   ]
  },
  {
   "cell_type": "markdown",
   "id": "8f46f800-73bc-4c24-b27e-42b0d648739f",
   "metadata": {},
   "source": [
    "#### Setting the seed for PCG64 as the PRNG\n",
    "\n",
    "We can set the seed by setting the stream source of the BitGenerator.  This done by calling the Generator function in Numpy and setting the bitGenerator to PCG64, and applying the initial seed.[19]  Below I will generate 2 sets of random data.  The parameters will be identical. "
   ]
  },
  {
   "cell_type": "code",
   "execution_count": 32,
   "id": "89842f1a-c704-44af-9264-65cea5a28707",
   "metadata": {},
   "outputs": [
    {
     "data": {
      "text/plain": [
       "array([15.57650035,  3.44497262, 14.27145587, 15.00670156,  3.42218154,\n",
       "       18.03849122,  2.83563084, 12.22457409, 18.21886239,  3.81546545])"
      ]
     },
     "execution_count": 32,
     "metadata": {},
     "output_type": "execute_result"
    }
   ],
   "source": [
    "# Setting the seed to 999 and producing random uniform numbers.\n",
    "seed_test1 = Generator(PCG64(999)).uniform(0,20,10)\n",
    "seed_test1"
   ]
  },
  {
   "cell_type": "code",
   "execution_count": 33,
   "id": "e83ec282-8636-46d3-bc53-b06ae2eada66",
   "metadata": {},
   "outputs": [
    {
     "data": {
      "text/plain": [
       "array([15.57650035,  3.44497262, 14.27145587, 15.00670156,  3.42218154,\n",
       "       18.03849122,  2.83563084, 12.22457409, 18.21886239,  3.81546545])"
      ]
     },
     "execution_count": 33,
     "metadata": {},
     "output_type": "execute_result"
    }
   ],
   "source": [
    "# Re-running the above random uniform number generator. \n",
    "seed_test2 = Generator(PCG64(999)).uniform(0,20,10)\n",
    "seed_test2"
   ]
  },
  {
   "cell_type": "markdown",
   "id": "c915207e-5271-4788-9055-beacd34c6ad1",
   "metadata": {},
   "source": [
    "<br>\n",
    "\n",
    "#### Checking to see if the random numbers were reproduced\n",
    "\n",
    "I will run a function to see if the contents of both arrays are equal"
   ]
  },
  {
   "cell_type": "code",
   "execution_count": 34,
   "id": "aeebeba8-41bc-4b2e-9cf2-76dfe30f8c8c",
   "metadata": {},
   "outputs": [
    {
     "name": "stdout",
     "output_type": "stream",
     "text": [
      "\n",
      "The seed has been set. The random numbers were reproduced.\n"
     ]
    }
   ],
   "source": [
    "# Checking to see if the contents of both arrays are the same. [25]\n",
    "if (seed_test1==seed_test2).all():\n",
    "    print (\"\\nThe seed has been set. The random numbers were reproduced.\")\n",
    "    \n",
    "else:\n",
    "    print (\"\\nRandom numbers were not reproduced.\")"
   ]
  },
  {
   "cell_type": "markdown",
   "id": "414583b1-72f8-4af7-b829-3f9db5de7983",
   "metadata": {},
   "source": [
    "\n",
    "<br>\n",
    "\n",
    "#### Using Mersenne Twister as the PRNG "
   ]
  },
  {
   "cell_type": "code",
   "execution_count": 35,
   "id": "789635e4-0df5-4a02-bc52-ba9794231cab",
   "metadata": {},
   "outputs": [],
   "source": [
    "# Setting the seed for the function.\n",
    "MT_test1 = Generator(PCG64(999)).integers(0,20,10)"
   ]
  },
  {
   "cell_type": "code",
   "execution_count": 36,
   "id": "09d8e8e1-d850-4a1e-a8f1-bc0031a0f59b",
   "metadata": {},
   "outputs": [],
   "source": [
    "MT_test2 = Generator(PCG64(999)).integers(0,20,10)"
   ]
  },
  {
   "cell_type": "markdown",
   "id": "64d28d24-7342-48e7-8919-a65532e49a2e",
   "metadata": {},
   "source": [
    "<br>\n",
    "\n",
    "#### Checking to see if the random numbers were reproduced"
   ]
  },
  {
   "cell_type": "code",
   "execution_count": 37,
   "id": "ad4594c2-ee30-4352-8225-d74edf156f01",
   "metadata": {},
   "outputs": [
    {
     "name": "stdout",
     "output_type": "stream",
     "text": [
      "\n",
      "The seed has been set. The random numbers were reproduced.\n"
     ]
    }
   ],
   "source": [
    "# Checking to see ig the contents of both arrays are the same. \n",
    "if (MT_test1==MT_test2).all():\n",
    "    print (\"\\nThe seed has been set. The random numbers were reproduced.\")\n",
    "    \n",
    "else:\n",
    "    print (\"\\nRandom numbers were not reproduced.\")"
   ]
  },
  {
   "cell_type": "markdown",
   "id": "f7ba7829-b1a5-4874-a5c7-eb3796d766e5",
   "metadata": {},
   "source": [
    "<br>\n",
    "\n",
    "# References \n",
    "- [1]  https://numpy.org/doc/stable/user/whatisnumpy.html\n",
    "- [2]  https://numpy.org/doc/stable/reference/random/generated/numpy.random.Generator.integers.html#numpy.random.Generator.integers\n",
    "- [3]  https://newbedev.com/np-random-choice-probabilities-do-not-sum-to-1\n",
    "- [4]  https://stackoverflow.com/questions/3679694/a-weighted-version-of-random-choice\n",
    "- [5]  https://numpy.org/doc/stable/reference/random/generated/numpy.random.Generator.choice.html#numpy.random.Generator.choice\n",
    "- [6]  https://www.sharpsightlabs.com/blog/numpy-random-choice/#numpy-random-choice-syntax\n",
    "- [7]  https://numpy.org/doc/stable/user/basics.creation.html\n",
    "- [8]  https://realpython.com/iterate-through-dictionary-python/#iterating-through-values\n",
    "- [9]  https://newbedev.com/shuffle-vs-permute-numpy\n",
    "- [10] https://www.nber.org/system/files/working_papers/h0108/h0108.pdf\n",
    "- [11] https://www.healthline.com/health/average-height-for-men#_noHeaderPrefixedContent\n",
    "- [12] https://pandas.pydata.org/docs/reference/api/pandas.read_csv.html\n",
    "- [13] https://numpy.org/doc/stable/reference/random/generated/numpy.random.Generator.normal.html#numpy.random.Generator.normal\n",
    "- [14] https://stackoverflow.com/questions/50558458/pandas-get-frequency-of-item-occurrences-in-a-column-as-percentage\n",
    "- [15] https://numpy.org/doc/stable/reference/random/generated/numpy.random.Generator.poisson.html#numpy.random.Generator.poisson\n",
    "- [16] https://www.investopedia.com/terms/p/poisson-distribution.asp\n",
    "- [17] https://numpy.org/doc/stable/reference/random/generated/numpy.random.Generator.uniform.html#numpy.random.Generator.uniform\n",
    "- [18] https://towardsdatascience.com/random-numbers-in-numpy-89172d6eac16\n",
    "- [19] https://numpy.org/doc/stable/reference/random/new-or-different.html\n",
    "- [20] https://realpython.com/python-random/#prngs-in-python\n",
    "- [21] https://arxiv.org/pdf/1910.06437.pdf\n",
    "- [22] https://www.pcg-random.org/\n",
    "- [23] https://numpy.org/doc/stable/reference/random/parallel.html\n",
    "- [24] https://www.pcg-random.org/rng-performance.html\n",
    "- [25] https://stackoverflow.com/questions/10580676/comparing-two-numpy-arrays-for-equality-element-wise"
   ]
  },
  {
   "cell_type": "markdown",
   "id": "f43465ca-448d-41b1-a2c7-01c5147223d2",
   "metadata": {},
   "source": [
    "***\n",
    "# End"
   ]
  }
 ],
 "metadata": {
  "kernelspec": {
   "display_name": "Python 3",
   "language": "python",
   "name": "python3"
  },
  "language_info": {
   "codemirror_mode": {
    "name": "ipython",
    "version": 3
   },
   "file_extension": ".py",
   "mimetype": "text/x-python",
   "name": "python",
   "nbconvert_exporter": "python",
   "pygments_lexer": "ipython3",
   "version": "3.8.8"
  }
 },
 "nbformat": 4,
 "nbformat_minor": 5
}
