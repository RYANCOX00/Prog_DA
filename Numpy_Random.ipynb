{
 "cells": [
  {
   "cell_type": "markdown",
   "id": "89e67e90-f3d6-4628-a049-6c6dbb36426c",
   "metadata": {},
   "source": [
    "# The Numpy Random Package\n",
    "\n",
    "This notebook will discuss and dempnstrate the Numpy Random package.  This is submission for the Programming for Data Analysis module in GMIT.  \n",
    "\n",
    "The Numpy documentation can be found [here](https://numpy.org/doc/stable/reference/random/index.html)\n"
   ]
  },
  {
   "cell_type": "code",
   "execution_count": 1,
   "id": "f3179ad5-781f-41b5-a92c-ed41552edafe",
   "metadata": {},
   "outputs": [],
   "source": [
    "import numpy as np\n",
    "import matplotlib.pyplot as plt\n",
    "import pandas as pd"
   ]
  },
  {
   "cell_type": "markdown",
   "id": "75599f94-1ee1-4eeb-8108-462e01f34bfc",
   "metadata": {},
   "source": [
    "<br>\n",
    "\n",
    "### Setting plot parameters"
   ]
  },
  {
   "cell_type": "code",
   "execution_count": 2,
   "id": "21a20d85-89a9-4693-929a-dcf231f7e6ec",
   "metadata": {},
   "outputs": [],
   "source": [
    "# See styles : https://matplotlib.org/stable/tutorials/introductory/customizing.html#composing-styles \n",
    "plt.rcParams['figure.figsize'] = [6, 6]"
   ]
  },
  {
   "cell_type": "markdown",
   "id": "d43fee1e-4bd3-4ccb-a25a-c3974d8d6c4e",
   "metadata": {},
   "source": [
    "## NumPy\n",
    "Numerical Python or \"Numpy\" is a package in Python that is used for data manipulation on numerical data. Numpy preforms fast operations on arrays. (MAYBE PUT SOME EXAMPLES IN HERE OF WHAT IT DOES EG SORTING). Numpy is much more effecient at preforming numerical data manipulation on its arrays than python is on lists. As Numpy is deisgned specifically for numerical data manipulation, it uses pre-compiled code rather than longer/ less efficient general phython code i.e. looping, indexing, etc..  (MAYBE DO A DEMO on efficiency?)  [1]\n",
    "\n",
    "## NumPy Random\n",
    "Numpy Random is a subpackage of numpy.  The main purpose of the random package is for creating simulation data that generated randomly depending on the function that is chosen.  3 categories of functions: simple random data, permutations, and distributions.  \n",
    "\n",
    "Discuss pseudorandom number generator (PRNG) - how random is random, not truely random. Seeds to be discussed later."
   ]
  },
  {
   "cell_type": "markdown",
   "id": "09bdafa1-6037-4d31-992e-ba5e0dfc251d",
   "metadata": {},
   "source": [
    "<br>\n",
    "\n",
    "# Simple Random Data\n",
    "## Random Integers\n",
    "The integers function provides a random number(s) between the parameters the user provides.  The parameters  include low, high (exclusive) and size of the sample of random numbers (optional but default size is 1).  First we'll generate one random number to simulate a dice roll."
   ]
  },
  {
   "cell_type": "code",
   "execution_count": 3,
   "id": "b776f453-62ed-4d32-8fa2-f2d7749425cb",
   "metadata": {},
   "outputs": [
    {
     "data": {
      "text/plain": [
       "1"
      ]
     },
     "execution_count": 3,
     "metadata": {},
     "output_type": "execute_result"
    }
   ],
   "source": [
    "rng = np.random.default_rng()\n",
    "rng.integers(1, 7)"
   ]
  },
  {
   "cell_type": "markdown",
   "id": "e72b778d-81d6-4048-b17b-88da55ce15c0",
   "metadata": {},
   "source": [
    "<br>\n",
    "\n",
    "### Array of Random Integers\n",
    "We can also generate an array of randoms. Below we will generate lotto quick pick numbers. "
   ]
  },
  {
   "cell_type": "code",
   "execution_count": 4,
   "id": "49da46dc-e026-4247-9af3-fd9a58441a8b",
   "metadata": {},
   "outputs": [
    {
     "data": {
      "text/plain": [
       "array([42,  8, 20, 13,  4, 45], dtype=int64)"
      ]
     },
     "execution_count": 4,
     "metadata": {},
     "output_type": "execute_result"
    }
   ],
   "source": [
    "rng = np.random.default_rng()\n",
    "rng.integers(1, 48, size= 6)  # high is exclusive so numbers are generated between 1 - 47. "
   ]
  },
  {
   "cell_type": "markdown",
   "id": "58d10c02-4528-4b2b-b236-019f6b5f26e6",
   "metadata": {},
   "source": [
    "<br>\n",
    "\n",
    "If we wish generate our quickpick numbers for lotto,  lotto plus 1 and lotto plus 2, we can create 3 arrays each containing 6 numbers. "
   ]
  },
  {
   "cell_type": "code",
   "execution_count": 5,
   "id": "2eef4895-9f9d-42bb-960b-d5e67275cbac",
   "metadata": {},
   "outputs": [
    {
     "data": {
      "text/plain": [
       "array([[21, 12, 29, 11,  5, 22],\n",
       "       [ 6, 13, 34, 14, 23, 43],\n",
       "       [26, 37, 39, 26, 24, 13]], dtype=int64)"
      ]
     },
     "execution_count": 5,
     "metadata": {},
     "output_type": "execute_result"
    }
   ],
   "source": [
    "rng.integers(1, 48, size= (3,6))"
   ]
  },
  {
   "cell_type": "markdown",
   "id": "20fed360-3815-41cc-a5bd-fa642e593e31",
   "metadata": {},
   "source": [
    "<br>\n",
    "\n",
    "### Progressive/ Regressive Random Arrays\n",
    "We can set lower or higher limits for numbers in the array as the random generation proceeds. As the range between the low and high narrows, we get a gradual increase or decrease in the frequency of the random number. To do so we set the lower or higher limit bounds by an array as the parameter.[2] \n",
    "\n",
    "Below is an example of setting the lower bounds for an array of 10,000 numbers. This is done by iterating through the size of the random array. The low parameter will increase slightly after each random number is generated, narrowing the random number choice available. This ultimately leads to the array being top heavy.  We can see this illustrated on the below histogram."
   ]
  },
  {
   "cell_type": "code",
   "execution_count": 6,
   "id": "21bc69cb-5bd1-45cf-8e6f-01c0d1742c2e",
   "metadata": {},
   "outputs": [],
   "source": [
    "low = []\n",
    "high = 10001 # High is exclusive for array and range. 10,000 is the true size. \n",
    "\n",
    "\n",
    "for i in range(1, high):\n",
    "    lower_limit = i * 0.99\n",
    "    low.append(lower_limit)\n",
    "\n",
    "progressive_10k = rng.integers([low], high, size=high-1) #size is high-1 because high is exclusive."
   ]
  },
  {
   "cell_type": "code",
   "execution_count": 7,
   "id": "903915a7-3f4e-4162-a412-2d7ebed46868",
   "metadata": {},
   "outputs": [
    {
     "data": {
      "text/plain": [
       "(array([  76.,  182.,  298.,  444.,  615.,  825., 1053., 1422., 1915.,\n",
       "        3170.]),\n",
       " array([  126. ,  1113.4,  2100.8,  3088.2,  4075.6,  5063. ,  6050.4,\n",
       "         7037.8,  8025.2,  9012.6, 10000. ]),\n",
       " <BarContainer object of 10 artists>)"
      ]
     },
     "execution_count": 7,
     "metadata": {},
     "output_type": "execute_result"
    },
    {
     "data": {
      "image/png": "[encoded data removed]",
      "text/plain": [
       "<Figure size 432x432 with 1 Axes>"
      ]
     },
     "metadata": {
      "needs_background": "light"
     },
     "output_type": "display_data"
    }
   ],
   "source": [
    "plt.hist(progressive_10k)"
   ]
  },
  {
   "cell_type": "markdown",
   "id": "ad35b5ac-fdf0-47b7-b033-98f58a900ffe",
   "metadata": {},
   "source": [
    "<br>\n",
    "\n",
    "## Random Floats"
   ]
  },
  {
   "cell_type": "markdown",
   "id": "230ad482-4bcd-4bb1-876c-7cddaa9f63fd",
   "metadata": {},
   "source": [
    "The Random function in Numpy will provide floating point random numbers between 0 and 1(exclusive). As with random integers, random numbers are generated with a uniform distribion across the range.  Although parameters within the random function are limited. "
   ]
  },
  {
   "cell_type": "code",
   "execution_count": 8,
   "id": "4ac5103c-96a8-44eb-bd4a-b4ae56aaa541",
   "metadata": {},
   "outputs": [],
   "source": [
    "rand_flt = rng.random(10000)"
   ]
  },
  {
   "cell_type": "code",
   "execution_count": 9,
   "id": "9b59423f-d5e1-4f6c-a83d-c79ef224ef66",
   "metadata": {},
   "outputs": [
    {
     "data": {
      "text/plain": [
       "(array([1010., 1030., 1013., 1015.,  986., 1006.,  985.,  992.,  985.,\n",
       "         978.]),\n",
       " array([4.91314014e-05, 1.00017874e-01, 1.99986617e-01, 2.99955359e-01,\n",
       "        3.99924102e-01, 4.99892844e-01, 5.99861587e-01, 6.99830329e-01,\n",
       "        7.99799072e-01, 8.99767815e-01, 9.99736557e-01]),\n",
       " <BarContainer object of 10 artists>)"
      ]
     },
     "execution_count": 9,
     "metadata": {},
     "output_type": "execute_result"
    },
    {
     "data": {
      "image/png": "[encoded data removed]",
      "text/plain": [
       "<Figure size 432x432 with 1 Axes>"
      ]
     },
     "metadata": {
      "needs_background": "light"
     },
     "output_type": "display_data"
    }
   ],
   "source": [
    "plt.hist(rand_flt)"
   ]
  },
  {
   "cell_type": "markdown",
   "id": "d6482e7a-dc91-4d8c-96b0-f0b2c6108f5a",
   "metadata": {},
   "source": [
    "<br>\n",
    "\n",
    "## Choice"
   ]
  },
  {
   "cell_type": "markdown",
   "id": "acc3bc11-b5a8-4aeb-ae57-1b18bd086526",
   "metadata": {},
   "source": [
    "Random choice allows us to pick a random item(s) from an array or number(s) from a range.  We have the option to have that item returned to the pool to be potientally reselected for subsequent choices or not. Additionality we can set the probability of an item being selected. It's also worth noting that an array can contain a variety of data types, i.e ints, floats, strings, booleans, lists, etc.. [5][6]\n",
    "\n",
    "Below I will demostrate a raffle where one contestant wins.  Although lets say we favour 11 and 32 over each other contestant.  Lets set their probilitity of winning higher than the rest and run the raffle 100 times.  I will then plot the frequency of each winner. "
   ]
  },
  {
   "cell_type": "code",
   "execution_count": 10,
   "id": "6badfe1d-53be-49e6-98e0-a100e035e8ba",
   "metadata": {},
   "outputs": [],
   "source": [
    "player_profile = {} # [4] creating a dict to assign probabilities to specific contestants. \n",
    "players_no = []\n",
    "probability =np.array([]) #[7]\n",
    "winners = []\n",
    "count = 0\n",
    "\n",
    "while count < 100:  # running the function/ raffle 100 times. \n",
    "    for i in np.arange(100): # looping through players, setting probability.\n",
    "        if i == 11:\n",
    "            player_profile[i] = 0.25  # contestant 11 has 25% probability of being selected. \n",
    "\n",
    "        elif i == 32:\n",
    "            player_profile[i] = 0.25   # contestant 32 has 25% probability of being selected.\n",
    "\n",
    "        else: \n",
    "            player_profile[i] = 0.00757 # all other contestant each have 0.757% of being selected. \n",
    "\n",
    "\n",
    "    for keys in player_profile.keys(): # [8] iterating through the dict for players\n",
    "        players_no.append(keys)  # appending the players to an array to be added to choice function. \n",
    "\n",
    "\n",
    "    for values in player_profile.values():  # need to create a numpy array before appending \n",
    "        probability = np.append(probability, values)  # as we'll need to sum these below. \n",
    "\n",
    "\n",
    "    probability /= probability.sum() #[3] - Need to sum and divide by itself as probability would not add to 1. \n",
    "\n",
    "\n",
    "    winner = rng.choice(players_no, p = probability) # choice between players with probabilities set. \n",
    "    winners.append(winner)\n",
    "    count +=1\n"
   ]
  },
  {
   "cell_type": "code",
   "execution_count": 11,
   "id": "83b1da22-4a80-472a-8f75-716af403f03f",
   "metadata": {},
   "outputs": [
    {
     "data": {
      "text/plain": [
       "(array([ 1.,  1.,  0.,  0.,  1.,  1.,  2.,  1.,  0.,  1.,  1., 18.,  1.,\n",
       "         2.,  0.,  0.,  1.,  1.,  0.,  0.,  1.,  0.,  1.,  2.,  1.,  1.,\n",
       "         0.,  2.,  1.,  1.,  0.,  0., 24.,  1.,  1.,  0.,  0.,  1.,  0.,\n",
       "         2.,  0.,  2.,  1.,  0.,  0.,  0.,  2.,  0.,  0.,  0.,  0.,  0.,\n",
       "         1.,  1.,  0.,  1.,  3.,  0.,  0.,  0.,  0.,  0.,  2.,  0.,  0.,\n",
       "         1.,  0.,  1.,  0.,  0.,  0.,  0.,  0.,  0.,  0.,  0.,  0.,  0.,\n",
       "         0.,  1.,  0.,  1.,  2.,  0.,  0.,  0.,  1.,  0.,  1.,  1.,  0.,\n",
       "         1.,  0.,  0.,  0.,  0.,  1.,  1.,  1.,  3.]),\n",
       " array([ 0.  ,  0.98,  1.96,  2.94,  3.92,  4.9 ,  5.88,  6.86,  7.84,\n",
       "         8.82,  9.8 , 10.78, 11.76, 12.74, 13.72, 14.7 , 15.68, 16.66,\n",
       "        17.64, 18.62, 19.6 , 20.58, 21.56, 22.54, 23.52, 24.5 , 25.48,\n",
       "        26.46, 27.44, 28.42, 29.4 , 30.38, 31.36, 32.34, 33.32, 34.3 ,\n",
       "        35.28, 36.26, 37.24, 38.22, 39.2 , 40.18, 41.16, 42.14, 43.12,\n",
       "        44.1 , 45.08, 46.06, 47.04, 48.02, 49.  , 49.98, 50.96, 51.94,\n",
       "        52.92, 53.9 , 54.88, 55.86, 56.84, 57.82, 58.8 , 59.78, 60.76,\n",
       "        61.74, 62.72, 63.7 , 64.68, 65.66, 66.64, 67.62, 68.6 , 69.58,\n",
       "        70.56, 71.54, 72.52, 73.5 , 74.48, 75.46, 76.44, 77.42, 78.4 ,\n",
       "        79.38, 80.36, 81.34, 82.32, 83.3 , 84.28, 85.26, 86.24, 87.22,\n",
       "        88.2 , 89.18, 90.16, 91.14, 92.12, 93.1 , 94.08, 95.06, 96.04,\n",
       "        97.02, 98.  ]),\n",
       " <BarContainer object of 100 artists>)"
      ]
     },
     "execution_count": 11,
     "metadata": {},
     "output_type": "execute_result"
    },
    {
     "data": {
      "image/png": "[encoded data removed]",
      "text/plain": [
       "<Figure size 432x432 with 1 Axes>"
      ]
     },
     "metadata": {
      "needs_background": "light"
     },
     "output_type": "display_data"
    }
   ],
   "source": [
    "plt.hist(winners, bins=100) # Plotting the results of the 100 raffles.  # Need to do a better plot. "
   ]
  },
  {
   "cell_type": "markdown",
   "id": "6d211ea8-036b-47ae-83ba-33526f987db0",
   "metadata": {},
   "source": [
    "<br>\n",
    "\n",
    "# Permutations\n",
    "## Shuffle & Permute"
   ]
  },
  {
   "cell_type": "markdown",
   "id": "2d9876bd-5c4e-4cbd-b3a2-515ea404a69b",
   "metadata": {},
   "source": [
    "Shuffling mixes the contents of a range, array or another mutable sequence.  We can shuffle a list and output the results in an array or in multi dimensional arrays.  This will shuffle the contents of the original data. \n",
    "\n",
    "Permute is similar however the original data is not suffled. Rather a copy of the original data is made which is shuffled. [9]\n",
    "\n",
    "Below we will create two 5-aside soccer teams.  Individuals are picked at random from a selection of 10 and placed into 2 seperate teams."
   ]
  },
  {
   "cell_type": "code",
   "execution_count": 12,
   "id": "e663e34e-74d7-47d4-90f9-06b69d530ac6",
   "metadata": {},
   "outputs": [
    {
     "name": "stdout",
     "output_type": "stream",
     "text": [
      "Team A contains players: [2 3 5 1 0]. You will kick off.\n",
      "Team B contains players: [9 8 4 7 6]\n"
     ]
    }
   ],
   "source": [
    "players = np.arange(10) # Creating a numpy array with numbers ranging from 0 to 9. \n",
    "rng.shuffle(players) # Shuffling the players up. \n",
    "\n",
    "teams = players.reshape((2, 5)) # Placing the random numbers into 2 arrays each containing 5 numbers.\n",
    "rng.shuffle(teams) # Shuffling the order of the arrays.  Team A will kick off.  \n",
    "\n",
    "Team_A = teams[0]\n",
    "Team_B = teams[1]\n",
    "print(\"Team A contains players: {}. You will kick off.\".format(Team_A))\n",
    "print(\"Team B contains players: {}\".format(Team_B))\n",
    "\n"
   ]
  },
  {
   "cell_type": "markdown",
   "id": "69c9b014-c3ed-4225-8e0f-5704d547ecc9",
   "metadata": {},
   "source": [
    "<br>\n",
    "\n",
    "# Distributions\n",
    "## Normal"
   ]
  },
  {
   "cell_type": "code",
   "execution_count": 58,
   "id": "1c1c850b-1a83-4932-a186-72930bce29c3",
   "metadata": {},
   "outputs": [],
   "source": [
    "# Need to describe the Normal function. [13]"
   ]
  },
  {
   "cell_type": "markdown",
   "id": "85e2c480-06bb-4a5b-a3d2-0282357406f0",
   "metadata": {},
   "source": [
    "I obtained a dataset of 252 males height that was originally published in a journal in 1985. \"Generalized Body Composition Prediction Equation for Men Using Simple Measurement Techniques\" by K. Penrose, A. Nelson, A.G. Fisher in Medicine and Science in Sports and Exercise 17(2) (1985) 189.   \n",
    "\n",
    "The dataset is available: http://www.statistics4u.com/fundstat_eng/data_bodyfat.html\n",
    "\n",
    "Below I intend to plot the height of each sample and compare this sample agaist a random sample of normally distributed numbers. Important to note that 1 outlier which was 29.50inches.  The mean for the remaining 251 height measurements was 70.3 inches. \n",
    "\n",
    "The average adult male height in the USA is 69.1 inches.[11] This is used for the normal distribution model below.  \n",
    "\n",
    "The standard deviation for males height is about 2.2 inches. [10]"
   ]
  },
  {
   "cell_type": "code",
   "execution_count": 44,
   "id": "57988dea-ce09-49fd-bd00-37b41e41b8a5",
   "metadata": {},
   "outputs": [],
   "source": [
    "# Reading in the CSV file.\n",
    "height = pd.read_csv(r\"data\\252_male_height.csv\") # [12]"
   ]
  },
  {
   "cell_type": "code",
   "execution_count": 54,
   "id": "7134b22f-5c6e-4803-b47d-be46a98f8b37",
   "metadata": {},
   "outputs": [],
   "source": [
    "# Creating a numpy array of normally distributed data. \n",
    "# 69.1 as mean, 2.2 as standard deviation & Same sample size as realworld dataset. \n",
    "normal = rng.normal (69.1, 2.2, 251)"
   ]
  },
  {
   "cell_type": "code",
   "execution_count": 55,
   "id": "6c804b44-142f-4d44-8fa2-22b6465cfd4b",
   "metadata": {},
   "outputs": [
    {
     "data": {
      "text/plain": [
       "Text(0.5, 1.0, 'Normal Distribution')"
      ]
     },
     "execution_count": 55,
     "metadata": {},
     "output_type": "execute_result"
    },
    {
     "data": {
      "image/png": "[encoded data removed]",
      "text/plain": [
       "<Figure size 432x432 with 2 Axes>"
      ]
     },
     "metadata": {
      "needs_background": "light"
     },
     "output_type": "display_data"
    }
   ],
   "source": [
    "# Plotting both sets of data next to eachother as a histogram. \n",
    "fig, (ax1, ax2) = plt.subplots(1,2)\n",
    "\n",
    "ax1.hist(height, bins = 60)\n",
    "ax1.set_title(\"Data Set\")\n",
    "\n",
    "ax2.hist(normal, bins=60)\n",
    "ax2.set_title(\"Normal Distribution\",   fontsize=12)\n"
   ]
  },
  {
   "cell_type": "code",
   "execution_count": 56,
   "id": "0768b3a0-cce5-4311-a154-688c101c5bdd",
   "metadata": {},
   "outputs": [
    {
     "data": {
      "text/html": [
       "<div>\n",
       "<style scoped>\n",
       "    .dataframe tbody tr th:only-of-type {\n",
       "        vertical-align: middle;\n",
       "    }\n",
       "\n",
       "    .dataframe tbody tr th {\n",
       "        vertical-align: top;\n",
       "    }\n",
       "\n",
       "    .dataframe thead th {\n",
       "        text-align: right;\n",
       "    }\n",
       "</style>\n",
       "<table border=\"1\" class=\"dataframe\">\n",
       "  <thead>\n",
       "    <tr style=\"text-align: right;\">\n",
       "      <th></th>\n",
       "      <th>Height</th>\n",
       "    </tr>\n",
       "  </thead>\n",
       "  <tbody>\n",
       "    <tr>\n",
       "      <th>count</th>\n",
       "      <td>251.000000</td>\n",
       "    </tr>\n",
       "    <tr>\n",
       "      <th>mean</th>\n",
       "      <td>70.310757</td>\n",
       "    </tr>\n",
       "    <tr>\n",
       "      <th>std</th>\n",
       "      <td>2.614296</td>\n",
       "    </tr>\n",
       "    <tr>\n",
       "      <th>min</th>\n",
       "      <td>64.000000</td>\n",
       "    </tr>\n",
       "    <tr>\n",
       "      <th>25%</th>\n",
       "      <td>68.250000</td>\n",
       "    </tr>\n",
       "    <tr>\n",
       "      <th>50%</th>\n",
       "      <td>70.000000</td>\n",
       "    </tr>\n",
       "    <tr>\n",
       "      <th>75%</th>\n",
       "      <td>72.250000</td>\n",
       "    </tr>\n",
       "    <tr>\n",
       "      <th>max</th>\n",
       "      <td>77.750000</td>\n",
       "    </tr>\n",
       "  </tbody>\n",
       "</table>\n",
       "</div>"
      ],
      "text/plain": [
       "          Height \n",
       "count  251.000000\n",
       "mean    70.310757\n",
       "std      2.614296\n",
       "min     64.000000\n",
       "25%     68.250000\n",
       "50%     70.000000\n",
       "75%     72.250000\n",
       "max     77.750000"
      ]
     },
     "execution_count": 56,
     "metadata": {},
     "output_type": "execute_result"
    }
   ],
   "source": [
    "# Running summary data for realworld dataset. \n",
    "height.describe()"
   ]
  },
  {
   "cell_type": "code",
   "execution_count": 59,
   "id": "8d1302dc-8329-4e45-bd22-6e7be1a8117c",
   "metadata": {},
   "outputs": [
    {
     "data": {
      "text/html": [
       "<div>\n",
       "<style scoped>\n",
       "    .dataframe tbody tr th:only-of-type {\n",
       "        vertical-align: middle;\n",
       "    }\n",
       "\n",
       "    .dataframe tbody tr th {\n",
       "        vertical-align: top;\n",
       "    }\n",
       "\n",
       "    .dataframe thead th {\n",
       "        text-align: right;\n",
       "    }\n",
       "</style>\n",
       "<table border=\"1\" class=\"dataframe\">\n",
       "  <thead>\n",
       "    <tr style=\"text-align: right;\">\n",
       "      <th></th>\n",
       "      <th>Normal Dist - Simulation</th>\n",
       "    </tr>\n",
       "  </thead>\n",
       "  <tbody>\n",
       "    <tr>\n",
       "      <th>count</th>\n",
       "      <td>251.000000</td>\n",
       "    </tr>\n",
       "    <tr>\n",
       "      <th>mean</th>\n",
       "      <td>69.003126</td>\n",
       "    </tr>\n",
       "    <tr>\n",
       "      <th>std</th>\n",
       "      <td>2.138086</td>\n",
       "    </tr>\n",
       "    <tr>\n",
       "      <th>min</th>\n",
       "      <td>62.165402</td>\n",
       "    </tr>\n",
       "    <tr>\n",
       "      <th>25%</th>\n",
       "      <td>67.616255</td>\n",
       "    </tr>\n",
       "    <tr>\n",
       "      <th>50%</th>\n",
       "      <td>68.788026</td>\n",
       "    </tr>\n",
       "    <tr>\n",
       "      <th>75%</th>\n",
       "      <td>70.424046</td>\n",
       "    </tr>\n",
       "    <tr>\n",
       "      <th>max</th>\n",
       "      <td>75.348777</td>\n",
       "    </tr>\n",
       "  </tbody>\n",
       "</table>\n",
       "</div>"
      ],
      "text/plain": [
       "       Normal Dist - Simulation\n",
       "count                251.000000\n",
       "mean                  69.003126\n",
       "std                    2.138086\n",
       "min                   62.165402\n",
       "25%                   67.616255\n",
       "50%                   68.788026\n",
       "75%                   70.424046\n",
       "max                   75.348777"
      ]
     },
     "execution_count": 59,
     "metadata": {},
     "output_type": "execute_result"
    }
   ],
   "source": [
    "# Storing the random stimulated data in a dataframe and labelling. \n",
    "df_describe = pd.DataFrame(normal)\n",
    "df_describe.columns =['Normal Dist - Simulation']\n",
    "\n",
    "# Running summary data for the stimulated data. \n",
    "df_describe.describe()"
   ]
  },
  {
   "cell_type": "markdown",
   "id": "e01dfa25-7e74-438e-9a7c-3790976fb5d2",
   "metadata": {},
   "source": [
    "We can see that the normal distribution simulation data provided by numpy random is very similar to the real world dataset published by K. Penrose, A. Nelson, A.G. Fisher. "
   ]
  },
  {
   "cell_type": "code",
   "execution_count": null,
   "id": "3d73302a-564d-4d3c-9841-333dfe98fec3",
   "metadata": {},
   "outputs": [],
   "source": []
  },
  {
   "cell_type": "code",
   "execution_count": null,
   "id": "6231813a-0e69-4de4-b2ca-fb9b33f2d510",
   "metadata": {},
   "outputs": [],
   "source": []
  },
  {
   "cell_type": "code",
   "execution_count": null,
   "id": "127196e1-2800-4f99-9fe3-4506218f5ce6",
   "metadata": {},
   "outputs": [],
   "source": []
  },
  {
   "cell_type": "markdown",
   "id": "f7ba7829-b1a5-4874-a5c7-eb3796d766e5",
   "metadata": {},
   "source": [
    "# References \n",
    "- [1]  https://numpy.org/doc/stable/user/whatisnumpy.html\n",
    "- [2]  https://numpy.org/doc/stable/reference/random/generated/numpy.random.Generator.integers.html#numpy.random.Generator.integers\n",
    "- [3]  https://newbedev.com/np-random-choice-probabilities-do-not-sum-to-1\n",
    "- [4]  https://stackoverflow.com/questions/3679694/a-weighted-version-of-random-choice\n",
    "- [5]  https://numpy.org/doc/stable/reference/random/generated/numpy.random.Generator.choice.html#numpy.random.Generator.choice\n",
    "- [6]  https://www.sharpsightlabs.com/blog/numpy-random-choice/#numpy-random-choice-syntax\n",
    "- [7]  https://numpy.org/doc/stable/user/basics.creation.html\n",
    "- [8]  https://realpython.com/iterate-through-dictionary-python/#iterating-through-values\n",
    "- [9]  https://newbedev.com/shuffle-vs-permute-numpy\n",
    "- [10] https://www.nber.org/system/files/working_papers/h0108/h0108.pdf\n",
    "- [11] https://www.healthline.com/health/average-height-for-men#_noHeaderPrefixedContent\n",
    "- [12] https://pandas.pydata.org/docs/reference/api/pandas.read_csv.html\n",
    "- [13] https://numpy.org/doc/stable/reference/random/generated/numpy.random.Generator.normal.html#numpy.random.Generator.normal"
   ]
  }
 ],
 "metadata": {
  "kernelspec": {
   "display_name": "Python 3",
   "language": "python",
   "name": "python3"
  },
  "language_info": {
   "codemirror_mode": {
    "name": "ipython",
    "version": 3
   },
   "file_extension": ".py",
   "mimetype": "text/x-python",
   "name": "python",
   "nbconvert_exporter": "python",
   "pygments_lexer": "ipython3",
   "version": "3.8.8"
  }
 },
 "nbformat": 4,
 "nbformat_minor": 5
}
