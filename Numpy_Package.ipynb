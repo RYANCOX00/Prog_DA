{
 "cells": [
  {
   "cell_type": "markdown",
   "id": "821d6c0d-df6b-48c4-9426-9f5e87242b42",
   "metadata": {},
   "source": [
    "# Messing around with Numpy functions to understand them"
   ]
  },
  {
   "cell_type": "code",
   "execution_count": 1,
   "id": "2c6deb86-fc81-4022-9e2e-d0bd2ef894dc",
   "metadata": {},
   "outputs": [],
   "source": [
    "import numpy as np\n",
    "import matplotlib.pyplot as plt"
   ]
  },
  {
   "cell_type": "markdown",
   "id": "2ec134cf-03a1-4c26-a3c6-0279b5bda823",
   "metadata": {},
   "source": [
    "<br>\n",
    "\n",
    "## Creating a 2D array with 100 random numbers each."
   ]
  },
  {
   "cell_type": "code",
   "execution_count": 2,
   "id": "aede69a8-c6c5-4471-a97f-048aa9475b2f",
   "metadata": {},
   "outputs": [
    {
     "data": {
      "text/plain": [
       "array([6, 2, 1, 3, 3, 1, 7, 3, 2, 8, 2, 3, 9, 3, 3, 4, 3, 1, 8, 7, 5, 7,\n",
       "       5, 9, 8, 8, 4, 2, 7, 4, 3, 6, 2, 6, 8, 6, 1, 1, 2, 7, 3, 3, 8, 2,\n",
       "       3, 5, 8, 8, 5, 2, 7, 0, 8, 2, 8, 2, 7, 6, 0, 2, 1, 2, 6, 1, 8, 0,\n",
       "       3, 4, 8, 6, 4, 5, 7, 5, 5, 3, 4, 6, 3, 6, 1, 4, 5, 1, 8, 7, 3, 3,\n",
       "       3, 0, 0, 7, 6, 6, 6, 7, 4, 7, 9, 9], dtype=int64)"
      ]
     },
     "execution_count": 2,
     "metadata": {},
     "output_type": "execute_result"
    }
   ],
   "source": [
    "rng = np.random.default_rng()\n",
    "range100 = rng.integers(10, size=(100))\n",
    "range100"
   ]
  },
  {
   "cell_type": "markdown",
   "id": "0353fdbe-7524-410a-8ee3-02e35931b7a7",
   "metadata": {},
   "source": [
    "<br>\n",
    "\n",
    "## Plotting the 2D array with randon numbers."
   ]
  },
  {
   "cell_type": "code",
   "execution_count": 3,
   "id": "698dc2af-acf6-41f2-88e9-d8cd9702bedf",
   "metadata": {},
   "outputs": [
    {
     "data": {
      "text/plain": [
       "(array([ 5.,  9., 12., 17.,  8.,  8., 12., 12., 13.,  4.]),\n",
       " array([0. , 0.9, 1.8, 2.7, 3.6, 4.5, 5.4, 6.3, 7.2, 8.1, 9. ]),\n",
       " <BarContainer object of 10 artists>)"
      ]
     },
     "execution_count": 3,
     "metadata": {},
     "output_type": "execute_result"
    },
    {
     "data": {
      "image/png": "[encoded data removed]",
      "text/plain": [
       "<Figure size 432x288 with 1 Axes>"
      ]
     },
     "metadata": {
      "needs_background": "light"
     },
     "output_type": "display_data"
    }
   ],
   "source": [
    "fig, ax1 = plt.subplots()\n",
    "ax1.hist(range100)"
   ]
  },
  {
   "cell_type": "markdown",
   "id": "09f04f52-4093-416d-bcb7-020f08474ab7",
   "metadata": {},
   "source": [
    "<br>\n",
    "\n",
    "## 3 random numbers between 0 and 9 inclusive. No duplicates"
   ]
  },
  {
   "cell_type": "code",
   "execution_count": 4,
   "id": "cef15eed-a1c3-4f7e-8b28-fb3ac4f48731",
   "metadata": {},
   "outputs": [
    {
     "data": {
      "text/plain": [
       "array([8, 6, 1], dtype=int64)"
      ]
     },
     "execution_count": 4,
     "metadata": {},
     "output_type": "execute_result"
    }
   ],
   "source": [
    "rng.choice(10, 3, replace=False)"
   ]
  },
  {
   "cell_type": "markdown",
   "id": "51156896-1710-40d6-928d-92fcb688dc71",
   "metadata": {},
   "source": [
    "<br>\n",
    "\n",
    "## 100 random floats between 1 and 10. "
   ]
  },
  {
   "cell_type": "code",
   "execution_count": 5,
   "id": "031ccd84-6692-4af4-9282-902ce1f7a48d",
   "metadata": {},
   "outputs": [
    {
     "data": {
      "text/plain": [
       "array([3.27449956, 4.97356208, 2.17286244, 5.66419176, 1.83428729,\n",
       "       9.74029129, 2.97046929, 4.81243195, 4.24097105, 3.97246889,\n",
       "       4.86687687, 9.03468029, 1.25946004, 6.64806607, 8.07828861,\n",
       "       4.71290872, 4.53043069, 9.97958055, 4.11190766, 6.24664196,\n",
       "       3.83109461, 6.44636965, 5.69778516, 4.31916219, 3.05069136,\n",
       "       1.49381649, 4.65344713, 1.48319433, 8.56981948, 8.27327459,\n",
       "       6.40155177, 1.46882422, 7.66581859, 3.01385376, 2.8062564 ,\n",
       "       9.45206822, 6.2693247 , 7.47117442, 6.4485615 , 7.82010011,\n",
       "       4.29299054, 4.17921727, 1.48261567, 6.55950418, 8.79913174,\n",
       "       3.00163398, 4.59726753, 6.96037279, 5.66750684, 8.03844086,\n",
       "       9.65197936, 7.61155758, 3.8119508 , 8.23533621, 6.89054187,\n",
       "       2.48849545, 3.85552617, 3.59023898, 1.64753555, 9.11864188,\n",
       "       1.04894727, 8.55989546, 5.34812064, 5.26611934, 3.82699717,\n",
       "       4.78743356, 8.77989183, 1.84077273, 3.34141194, 1.75032464,\n",
       "       1.76793694, 6.30930222, 4.67049603, 6.98658363, 3.89894984,\n",
       "       6.54768695, 1.70954314, 9.36804565, 1.92321874, 8.221676  ,\n",
       "       7.12351943, 6.90431556, 7.54701068, 1.63877008, 4.02775456,\n",
       "       8.30794357, 7.30503774, 2.25709072, 2.74316097, 3.54825744,\n",
       "       3.84560853, 8.87114898, 3.9879537 , 5.23991839, 7.41482567,\n",
       "       1.30141629, 6.61697299, 4.9555633 , 7.68082158, 9.03999876])"
      ]
     },
     "execution_count": 5,
     "metadata": {},
     "output_type": "execute_result"
    }
   ],
   "source": [
    "# 100 random floats between 1 and 10. \n",
    "rng.uniform(1, 10,size=100)"
   ]
  },
  {
   "cell_type": "markdown",
   "id": "d680e883-8fa8-4476-9dd4-326bda1d52d4",
   "metadata": {},
   "source": [
    "<br>\n",
    "\n",
    "## Plotting 10000 normally distributed numbers. 100 being the mean. 5 being spread."
   ]
  },
  {
   "cell_type": "code",
   "execution_count": 6,
   "id": "9c0a8bb2-6e3e-4d3e-855b-eeceff92077f",
   "metadata": {},
   "outputs": [
    {
     "data": {
      "text/plain": [
       "(array([  1.,   1.,   0.,   4.,   2.,   4.,   3.,  10.,  18.,  28.,  28.,\n",
       "         58.,  81.,  95., 139., 172., 221., 293., 345., 405., 426., 555.,\n",
       "        571., 563., 655., 624., 560., 613., 578., 545., 448., 394., 348.,\n",
       "        302., 234., 191., 140., 111.,  72.,  45.,  39.,  29.,  13.,  16.,\n",
       "          6.,   4.,   5.,   3.,   1.,   1.]),\n",
       " array([ 79.95712935,  80.74275179,  81.52837422,  82.31399666,\n",
       "         83.09961909,  83.88524153,  84.67086397,  85.4564864 ,\n",
       "         86.24210884,  87.02773127,  87.81335371,  88.59897615,\n",
       "         89.38459858,  90.17022102,  90.95584345,  91.74146589,\n",
       "         92.52708833,  93.31271076,  94.0983332 ,  94.88395563,\n",
       "         95.66957807,  96.45520051,  97.24082294,  98.02644538,\n",
       "         98.81206781,  99.59769025, 100.38331269, 101.16893512,\n",
       "        101.95455756, 102.74017999, 103.52580243, 104.31142487,\n",
       "        105.0970473 , 105.88266974, 106.66829218, 107.45391461,\n",
       "        108.23953705, 109.02515948, 109.81078192, 110.59640436,\n",
       "        111.38202679, 112.16764923, 112.95327166, 113.7388941 ,\n",
       "        114.52451654, 115.31013897, 116.09576141, 116.88138384,\n",
       "        117.66700628, 118.45262872, 119.23825115]),\n",
       " <BarContainer object of 50 artists>)"
      ]
     },
     "execution_count": 6,
     "metadata": {},
     "output_type": "execute_result"
    },
    {
     "data": {
      "image/png": "[encoded data removed]",
      "text/plain": [
       "<Figure size 432x288 with 1 Axes>"
      ]
     },
     "metadata": {
      "needs_background": "light"
     },
     "output_type": "display_data"
    }
   ],
   "source": [
    "nml = rng.normal (100, 5, 10000)\n",
    "plt.hist(nml, bins=50)"
   ]
  },
  {
   "cell_type": "code",
   "execution_count": null,
   "id": "68a03c39-399d-4cd6-ae61-36d2d6fe3157",
   "metadata": {},
   "outputs": [],
   "source": []
  }
 ],
 "metadata": {
  "kernelspec": {
   "display_name": "Python 3",
   "language": "python",
   "name": "python3"
  },
  "language_info": {
   "codemirror_mode": {
    "name": "ipython",
    "version": 3
   },
   "file_extension": ".py",
   "mimetype": "text/x-python",
   "name": "python",
   "nbconvert_exporter": "python",
   "pygments_lexer": "ipython3",
   "version": "3.8.8"
  }
 },
 "nbformat": 4,
 "nbformat_minor": 5
}
