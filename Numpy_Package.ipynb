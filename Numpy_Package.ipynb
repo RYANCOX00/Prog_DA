{
 "cells": [
  {
   "cell_type": "markdown",
   "id": "821d6c0d-df6b-48c4-9426-9f5e87242b42",
   "metadata": {},
   "source": [
    "# Messing around with Numpy functions to understand them"
   ]
  },
  {
   "cell_type": "code",
   "execution_count": 1,
   "id": "2c6deb86-fc81-4022-9e2e-d0bd2ef894dc",
   "metadata": {},
   "outputs": [],
   "source": [
    "import numpy as np\n",
    "import matplotlib.pyplot as plt"
   ]
  },
  {
   "cell_type": "markdown",
   "id": "2ec134cf-03a1-4c26-a3c6-0279b5bda823",
   "metadata": {},
   "source": [
    "<br>\n",
    "\n",
    "## Creating a 2D array with 100 random numbers each."
   ]
  },
  {
   "cell_type": "code",
   "execution_count": 2,
   "id": "aede69a8-c6c5-4471-a97f-048aa9475b2f",
   "metadata": {},
   "outputs": [
    {
     "data": {
      "text/plain": [
       "array([1, 7, 3, 5, 5, 4, 5, 0, 5, 0, 0, 8, 7, 3, 9, 1, 8, 4, 7, 7, 5, 3,\n",
       "       0, 5, 9, 9, 6, 7, 9, 7, 7, 4, 6, 6, 0, 7, 0, 2, 6, 2, 6, 3, 0, 4,\n",
       "       6, 9, 3, 9, 8, 4, 4, 8, 6, 5, 3, 4, 5, 9, 5, 0, 9, 3, 9, 8, 7, 0,\n",
       "       8, 5, 7, 8, 2, 4, 8, 7, 3, 0, 0, 4, 6, 3, 7, 8, 3, 2, 5, 3, 5, 2,\n",
       "       8, 9, 5, 1, 6, 8, 8, 4, 1, 0, 9, 8], dtype=int64)"
      ]
     },
     "execution_count": 2,
     "metadata": {},
     "output_type": "execute_result"
    }
   ],
   "source": [
    "rng = np.random.default_rng()\n",
    "range100 = rng.integers(10, size=(100))\n",
    "range100"
   ]
  },
  {
   "cell_type": "markdown",
   "id": "0353fdbe-7524-410a-8ee3-02e35931b7a7",
   "metadata": {},
   "source": [
    "<br>\n",
    "\n",
    "## Plotting the 2D array with randon numbers."
   ]
  },
  {
   "cell_type": "code",
   "execution_count": 3,
   "id": "698dc2af-acf6-41f2-88e9-d8cd9702bedf",
   "metadata": {},
   "outputs": [
    {
     "data": {
      "text/plain": [
       "(array([12.,  4.,  5., 11., 10., 13.,  9., 12., 13., 11.]),\n",
       " array([0. , 0.9, 1.8, 2.7, 3.6, 4.5, 5.4, 6.3, 7.2, 8.1, 9. ]),\n",
       " <BarContainer object of 10 artists>)"
      ]
     },
     "execution_count": 3,
     "metadata": {},
     "output_type": "execute_result"
    },
    {
     "data": {
      "image/png": "[encoded data removed]",
      "text/plain": [
       "<Figure size 432x288 with 1 Axes>"
      ]
     },
     "metadata": {
      "needs_background": "light"
     },
     "output_type": "display_data"
    }
   ],
   "source": [
    "fig, ax1 = plt.subplots()\n",
    "ax1.hist(range100)"
   ]
  },
  {
   "cell_type": "markdown",
   "id": "09f04f52-4093-416d-bcb7-020f08474ab7",
   "metadata": {},
   "source": [
    "<br>\n",
    "\n",
    "## 3 random numbers between 0 and 9 inclusive. No duplicates"
   ]
  },
  {
   "cell_type": "code",
   "execution_count": 4,
   "id": "cef15eed-a1c3-4f7e-8b28-fb3ac4f48731",
   "metadata": {},
   "outputs": [
    {
     "data": {
      "text/plain": [
       "array([8, 3, 4], dtype=int64)"
      ]
     },
     "execution_count": 4,
     "metadata": {},
     "output_type": "execute_result"
    }
   ],
   "source": [
    "rng.choice(10, 3, replace=False)"
   ]
  },
  {
   "cell_type": "markdown",
   "id": "51156896-1710-40d6-928d-92fcb688dc71",
   "metadata": {},
   "source": [
    "<br>\n",
    "\n",
    "## 100 random floats between 1 and 10. "
   ]
  },
  {
   "cell_type": "code",
   "execution_count": 5,
   "id": "031ccd84-6692-4af4-9282-902ce1f7a48d",
   "metadata": {},
   "outputs": [
    {
     "data": {
      "text/plain": [
       "array([1.67651476, 9.39151136, 5.90765078, 7.57596829, 6.23551287,\n",
       "       8.184175  , 2.70525441, 7.23004372, 6.33806299, 5.73567928,\n",
       "       1.14107947, 6.97007417, 6.46338722, 9.16031731, 2.30753523,\n",
       "       2.15346999, 8.34952176, 3.27789071, 2.78738472, 5.17806676,\n",
       "       5.5015124 , 7.4708304 , 3.21122704, 9.29467662, 5.16627018,\n",
       "       4.95448215, 6.05536613, 1.77841567, 7.43555356, 9.43445188,\n",
       "       6.06847448, 5.81098088, 6.57922334, 8.75281783, 6.4532068 ,\n",
       "       1.34052781, 2.15298977, 7.48195345, 3.73878651, 7.98742826,\n",
       "       4.13377235, 3.55194759, 6.7446533 , 6.35293036, 4.89902858,\n",
       "       7.41891246, 4.84556916, 7.08042678, 2.42857812, 2.46438156,\n",
       "       9.46566188, 8.73923254, 1.4194912 , 1.57712286, 7.31639916,\n",
       "       9.84819485, 2.03042055, 1.21630368, 6.79802552, 4.09351915,\n",
       "       1.23431991, 3.41062493, 4.84853526, 5.9417013 , 2.02771536,\n",
       "       3.26310444, 6.84988887, 4.43843726, 5.74868507, 2.08789766,\n",
       "       4.95743004, 1.26944412, 1.19911084, 9.89651532, 2.61734899,\n",
       "       5.26168047, 8.77148692, 6.09085582, 1.47013837, 5.98323872,\n",
       "       3.47949038, 3.22871881, 4.2188923 , 3.91770325, 9.92781235,\n",
       "       1.5779145 , 7.48169993, 4.28433281, 3.07766503, 4.4203477 ,\n",
       "       3.8073075 , 3.70722623, 5.73529259, 4.64418616, 9.870412  ,\n",
       "       6.63530867, 6.44863793, 6.71978713, 4.3386508 , 2.33182696])"
      ]
     },
     "execution_count": 5,
     "metadata": {},
     "output_type": "execute_result"
    }
   ],
   "source": [
    "# 100 random floats between 1 and 10. \n",
    "rng.uniform(1, 10,size=100)"
   ]
  },
  {
   "cell_type": "markdown",
   "id": "d680e883-8fa8-4476-9dd4-326bda1d52d4",
   "metadata": {},
   "source": [
    "<br>\n",
    "\n",
    "## Plotting 10000 normally distributed numbers. 70 being the mean. 3 is the standard deviation."
   ]
  },
  {
   "cell_type": "code",
   "execution_count": 11,
   "id": "9c0a8bb2-6e3e-4d3e-855b-eeceff92077f",
   "metadata": {},
   "outputs": [
    {
     "data": {
      "text/plain": [
       "(array([  1.,   1.,   0.,   2.,   4.,   7.,   8.,  22.,  40.,  40.,  72.,\n",
       "         61., 101., 145., 213., 243., 324., 392., 375., 492., 562., 572.,\n",
       "        584., 672., 652., 612., 577., 577., 502., 428., 362., 322., 257.,\n",
       "        200., 163., 138.,  91.,  52.,  46.,  33.,  25.,  12.,   2.,   6.,\n",
       "          5.,   3.,   1.,   0.,   0.,   1.]),\n",
       " array([58.38144959, 58.86229758, 59.34314557, 59.82399356, 60.30484155,\n",
       "        60.78568954, 61.26653753, 61.74738552, 62.22823351, 62.7090815 ,\n",
       "        63.18992949, 63.67077748, 64.15162547, 64.63247346, 65.11332145,\n",
       "        65.59416944, 66.07501743, 66.55586542, 67.03671341, 67.5175614 ,\n",
       "        67.99840939, 68.47925737, 68.96010536, 69.44095335, 69.92180134,\n",
       "        70.40264933, 70.88349732, 71.36434531, 71.8451933 , 72.32604129,\n",
       "        72.80688928, 73.28773727, 73.76858526, 74.24943325, 74.73028124,\n",
       "        75.21112923, 75.69197722, 76.17282521, 76.6536732 , 77.13452119,\n",
       "        77.61536918, 78.09621717, 78.57706516, 79.05791314, 79.53876113,\n",
       "        80.01960912, 80.50045711, 80.9813051 , 81.46215309, 81.94300108,\n",
       "        82.42384907]),\n",
       " <BarContainer object of 50 artists>)"
      ]
     },
     "execution_count": 11,
     "metadata": {},
     "output_type": "execute_result"
    },
    {
     "data": {
      "image/png": "[encoded data removed]",
      "text/plain": [
       "<Figure size 432x288 with 1 Axes>"
      ]
     },
     "metadata": {
      "needs_background": "light"
     },
     "output_type": "display_data"
    }
   ],
   "source": [
    "nml = rng.normal (70, 3, 10000)\n",
    "plt.hist(nml, bins=50)"
   ]
  },
  {
   "cell_type": "code",
   "execution_count": 7,
   "id": "68a03c39-399d-4cd6-ae61-36d2d6fe3157",
   "metadata": {},
   "outputs": [],
   "source": [
    "uni_data = rng.uniform(0,1,100)"
   ]
  },
  {
   "cell_type": "code",
   "execution_count": 8,
   "id": "b14aed3c-5662-41a7-9c30-835b47f7b498",
   "metadata": {},
   "outputs": [
    {
     "data": {
      "text/plain": [
       "Text(0.5, 0.98, 'Title for whole figure')"
      ]
     },
     "execution_count": 8,
     "metadata": {},
     "output_type": "execute_result"
    },
    {
     "data": {
      "image/png": "[encoded data removed]",
      "text/plain": [
       "<Figure size 432x288 with 2 Axes>"
      ]
     },
     "metadata": {
      "needs_background": "light"
     },
     "output_type": "display_data"
    }
   ],
   "source": [
    "fig, (ax1, ax2) = plt.subplots(1,2)\n",
    "ax1.hist(uni_data)\n",
    "ax1.set_xlabel(\"hello\")\n",
    "ax2.scatter(uni_data, uni_data)\n",
    "ax2.set_title(\"Hello\",   fontsize=12)\n",
    "fig.suptitle(\"Title for whole figure\",  fontsize=16)"
   ]
  },
  {
   "cell_type": "code",
   "execution_count": 9,
   "id": "d4e739c5-24e4-465f-9880-b413735036d9",
   "metadata": {},
   "outputs": [
    {
     "data": {
      "text/plain": [
       "array([4, 5, 4, 4, 4, 3, 0, 7, 7, 6], dtype=int64)"
      ]
     },
     "execution_count": 9,
     "metadata": {},
     "output_type": "execute_result"
    }
   ],
   "source": [
    "np.random.PCG64(seed=1)\n",
    "range10 = rng.integers(10, size=(10))\n",
    "range10"
   ]
  },
  {
   "cell_type": "code",
   "execution_count": null,
   "id": "42c09289-875d-4dba-b8b3-a68595824c35",
   "metadata": {},
   "outputs": [],
   "source": []
  }
 ],
 "metadata": {
  "kernelspec": {
   "display_name": "Python 3",
   "language": "python",
   "name": "python3"
  },
  "language_info": {
   "codemirror_mode": {
    "name": "ipython",
    "version": 3
   },
   "file_extension": ".py",
   "mimetype": "text/x-python",
   "name": "python",
   "nbconvert_exporter": "python",
   "pygments_lexer": "ipython3",
   "version": "3.8.8"
  }
 },
 "nbformat": 4,
 "nbformat_minor": 5
}
