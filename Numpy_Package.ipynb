{
 "cells": [
  {
   "cell_type": "markdown",
   "id": "821d6c0d-df6b-48c4-9426-9f5e87242b42",
   "metadata": {},
   "source": [
    "# Messing around with Numpy functions to understand them"
   ]
  },
  {
   "cell_type": "code",
   "execution_count": 1,
   "id": "2c6deb86-fc81-4022-9e2e-d0bd2ef894dc",
   "metadata": {},
   "outputs": [],
   "source": [
    "import numpy as np\n",
    "import matplotlib.pyplot as plt"
   ]
  },
  {
   "cell_type": "markdown",
   "id": "2ec134cf-03a1-4c26-a3c6-0279b5bda823",
   "metadata": {},
   "source": [
    "<br>\n",
    "\n",
    "## Creating a 2D array with 100 random numbers each."
   ]
  },
  {
   "cell_type": "code",
   "execution_count": 2,
   "id": "aede69a8-c6c5-4471-a97f-048aa9475b2f",
   "metadata": {},
   "outputs": [
    {
     "data": {
      "text/plain": [
       "array([3, 8, 3, 1, 9, 1, 5, 9, 3, 8, 6, 6, 5, 6, 9, 8, 2, 0, 1, 5, 5, 2,\n",
       "       3, 9, 4, 6, 9, 8, 8, 2, 2, 4, 2, 0, 8, 2, 4, 4, 6, 4, 8, 4, 5, 7,\n",
       "       1, 7, 1, 2, 8, 5, 4, 9, 2, 2, 3, 9, 2, 9, 7, 8, 3, 5, 7, 6, 6, 2,\n",
       "       4, 0, 6, 0, 6, 1, 2, 5, 6, 3, 8, 3, 3, 2, 1, 4, 2, 2, 9, 1, 8, 3,\n",
       "       7, 4, 7, 1, 7, 0, 2, 4, 8, 8, 0, 8], dtype=int64)"
      ]
     },
     "execution_count": 2,
     "metadata": {},
     "output_type": "execute_result"
    }
   ],
   "source": [
    "rng = np.random.default_rng()\n",
    "range100 = rng.integers(10, size=(100))\n",
    "range100"
   ]
  },
  {
   "cell_type": "markdown",
   "id": "0353fdbe-7524-410a-8ee3-02e35931b7a7",
   "metadata": {},
   "source": [
    "<br>\n",
    "\n",
    "## Plotting the 2D array with randon numbers."
   ]
  },
  {
   "cell_type": "code",
   "execution_count": 3,
   "id": "698dc2af-acf6-41f2-88e9-d8cd9702bedf",
   "metadata": {},
   "outputs": [
    {
     "data": {
      "text/plain": [
       "(array([ 6.,  9., 16., 10., 11.,  8., 10.,  7., 14.,  9.]),\n",
       " array([0. , 0.9, 1.8, 2.7, 3.6, 4.5, 5.4, 6.3, 7.2, 8.1, 9. ]),\n",
       " <BarContainer object of 10 artists>)"
      ]
     },
     "execution_count": 3,
     "metadata": {},
     "output_type": "execute_result"
    },
    {
     "data": {
      "image/png": "[encoded data removed]",
      "text/plain": [
       "<Figure size 432x288 with 1 Axes>"
      ]
     },
     "metadata": {
      "needs_background": "light"
     },
     "output_type": "display_data"
    }
   ],
   "source": [
    "fig, ax1 = plt.subplots()\n",
    "ax1.hist(range100)"
   ]
  },
  {
   "cell_type": "markdown",
   "id": "09f04f52-4093-416d-bcb7-020f08474ab7",
   "metadata": {},
   "source": [
    "<br>\n",
    "\n",
    "## 3 random numbers between 0 and 9 inclusive. No duplicates"
   ]
  },
  {
   "cell_type": "code",
   "execution_count": 4,
   "id": "cef15eed-a1c3-4f7e-8b28-fb3ac4f48731",
   "metadata": {},
   "outputs": [
    {
     "data": {
      "text/plain": [
       "array([2, 4, 7], dtype=int64)"
      ]
     },
     "execution_count": 4,
     "metadata": {},
     "output_type": "execute_result"
    }
   ],
   "source": [
    "rng.choice(10, 3, replace=False)"
   ]
  },
  {
   "cell_type": "markdown",
   "id": "51156896-1710-40d6-928d-92fcb688dc71",
   "metadata": {},
   "source": [
    "<br>\n",
    "\n",
    "## 100 random floats between 1 and 10. "
   ]
  },
  {
   "cell_type": "code",
   "execution_count": 5,
   "id": "031ccd84-6692-4af4-9282-902ce1f7a48d",
   "metadata": {},
   "outputs": [
    {
     "data": {
      "text/plain": [
       "array([3.48134574, 7.82267881, 4.77308142, 9.07780028, 9.03180837,\n",
       "       6.14113847, 6.99927227, 5.95213418, 4.68692853, 3.5055411 ,\n",
       "       4.54520339, 7.78245631, 3.04842386, 8.02375924, 5.05294948,\n",
       "       1.94805835, 2.13022155, 3.36699593, 4.22150752, 2.1268123 ,\n",
       "       5.93101834, 3.29020142, 3.42787534, 8.13295431, 3.04707142,\n",
       "       7.11253994, 4.76477897, 5.89242286, 1.83132369, 7.97573575,\n",
       "       7.18677787, 6.1568145 , 2.10183436, 3.59435681, 5.35296793,\n",
       "       2.6985272 , 9.05311064, 9.35654475, 1.14104752, 4.95376497,\n",
       "       2.85041655, 6.02698679, 4.51267948, 7.85931676, 7.24657931,\n",
       "       4.35538901, 5.71323953, 2.21799299, 7.46570804, 1.21438776,\n",
       "       8.70373663, 5.29334242, 3.00769727, 7.71889274, 7.52563922,\n",
       "       6.61283678, 5.98764356, 7.62907248, 1.78208893, 4.26781584,\n",
       "       3.42296244, 3.98475167, 1.4904499 , 2.17482858, 1.94324751,\n",
       "       7.40169637, 5.30205106, 6.27023286, 1.25697579, 8.07547476,\n",
       "       4.25935618, 5.76971679, 6.73103546, 9.9075776 , 6.10963854,\n",
       "       2.51593183, 1.3617711 , 6.15197344, 1.12559569, 9.92878716,\n",
       "       1.62967111, 4.71767053, 7.74768073, 9.96128724, 6.16020647,\n",
       "       8.86404464, 7.13039651, 4.39429347, 4.56126996, 3.86509922,\n",
       "       5.87052743, 1.78994406, 2.64466806, 5.74438349, 2.2397054 ,\n",
       "       9.13259729, 7.05601954, 8.50589346, 8.99852275, 9.14491972])"
      ]
     },
     "execution_count": 5,
     "metadata": {},
     "output_type": "execute_result"
    }
   ],
   "source": [
    "#100 random floats between 1 and 10. \n",
    "rng.uniform(1, 10,size=100)"
   ]
  },
  {
   "cell_type": "markdown",
   "id": "d680e883-8fa8-4476-9dd4-326bda1d52d4",
   "metadata": {},
   "source": [
    "<br>\n",
    "\n",
    "## Plotting 10000 normally distributed numbers. 70 being the mean. 3 is the standard deviation."
   ]
  },
  {
   "cell_type": "code",
   "execution_count": 6,
   "id": "9c0a8bb2-6e3e-4d3e-855b-eeceff92077f",
   "metadata": {},
   "outputs": [
    {
     "data": {
      "text/plain": [
       "(array([  4.,   1.,   1.,   2.,   6.,   3.,   8.,  10.,  21.,  33.,  41.,\n",
       "         63.,  97., 115., 159., 212., 250., 309., 389., 438., 486., 566.,\n",
       "        579., 622., 661., 655., 573., 566., 559., 495., 427., 346., 324.,\n",
       "        258., 178., 149., 109.,  94.,  70.,  51.,  23.,  18.,  10.,   8.,\n",
       "          4.,   4.,   1.,   0.,   1.,   1.]),\n",
       " array([58.04120621, 58.52126521, 59.00132422, 59.48138323, 59.96144224,\n",
       "        60.44150125, 60.92156026, 61.40161927, 61.88167828, 62.36173729,\n",
       "        62.8417963 , 63.3218553 , 63.80191431, 64.28197332, 64.76203233,\n",
       "        65.24209134, 65.72215035, 66.20220936, 66.68226837, 67.16232738,\n",
       "        67.64238638, 68.12244539, 68.6025044 , 69.08256341, 69.56262242,\n",
       "        70.04268143, 70.52274044, 71.00279945, 71.48285846, 71.96291746,\n",
       "        72.44297647, 72.92303548, 73.40309449, 73.8831535 , 74.36321251,\n",
       "        74.84327152, 75.32333053, 75.80338954, 76.28344855, 76.76350755,\n",
       "        77.24356656, 77.72362557, 78.20368458, 78.68374359, 79.1638026 ,\n",
       "        79.64386161, 80.12392062, 80.60397963, 81.08403863, 81.56409764,\n",
       "        82.04415665]),\n",
       " <BarContainer object of 50 artists>)"
      ]
     },
     "execution_count": 6,
     "metadata": {},
     "output_type": "execute_result"
    },
    {
     "data": {
      "image/png": "[encoded data removed]",
      "text/plain": [
       "<Figure size 432x288 with 1 Axes>"
      ]
     },
     "metadata": {
      "needs_background": "light"
     },
     "output_type": "display_data"
    }
   ],
   "source": [
    "nml = rng.normal (70, 3, 10000)\n",
    "plt.hist(nml, bins=50)"
   ]
  },
  {
   "cell_type": "code",
   "execution_count": 7,
   "id": "68a03c39-399d-4cd6-ae61-36d2d6fe3157",
   "metadata": {},
   "outputs": [],
   "source": [
    "uni_data = rng.uniform(0,1,100)"
   ]
  },
  {
   "cell_type": "code",
   "execution_count": 8,
   "id": "b14aed3c-5662-41a7-9c30-835b47f7b498",
   "metadata": {},
   "outputs": [
    {
     "data": {
      "text/plain": [
       "Text(0.5, 0.98, 'Title for whole figure')"
      ]
     },
     "execution_count": 8,
     "metadata": {},
     "output_type": "execute_result"
    },
    {
     "data": {
      "image/png": "[encoded data removed]",
      "text/plain": [
       "<Figure size 432x288 with 2 Axes>"
      ]
     },
     "metadata": {
      "needs_background": "light"
     },
     "output_type": "display_data"
    }
   ],
   "source": [
    "fig, (ax1, ax2) = plt.subplots(1,2)\n",
    "ax1.hist(uni_data)\n",
    "ax1.set_xlabel(\"hello\")\n",
    "ax2.scatter(uni_data, uni_data)\n",
    "ax2.set_title(\"Hello\",   fontsize=12)\n",
    "fig.suptitle(\"Title for whole figure\",  fontsize=16)"
   ]
  },
  {
   "cell_type": "code",
   "execution_count": 9,
   "id": "d4e739c5-24e4-465f-9880-b413735036d9",
   "metadata": {},
   "outputs": [
    {
     "data": {
      "text/plain": [
       "array([0, 2, 1, 7, 2, 4, 3, 0, 8, 6], dtype=int64)"
      ]
     },
     "execution_count": 9,
     "metadata": {},
     "output_type": "execute_result"
    }
   ],
   "source": [
    "np.random.PCG64(seed=1)\n",
    "range10 = rng.integers(10, size=(10))\n",
    "range10"
   ]
  },
  {
   "cell_type": "code",
   "execution_count": null,
   "id": "42c09289-875d-4dba-b8b3-a68595824c35",
   "metadata": {},
   "outputs": [],
   "source": []
  }
 ],
 "metadata": {
  "kernelspec": {
   "display_name": "Python 3",
   "language": "python",
   "name": "python3"
  },
  "language_info": {
   "codemirror_mode": {
    "name": "ipython",
    "version": 3
   },
   "file_extension": ".py",
   "mimetype": "text/x-python",
   "name": "python",
   "nbconvert_exporter": "python",
   "pygments_lexer": "ipython3",
   "version": "3.8.8"
  }
 },
 "nbformat": 4,
 "nbformat_minor": 5
}
